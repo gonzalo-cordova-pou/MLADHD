{
  "nbformat": 4,
  "nbformat_minor": 0,
  "metadata": {
    "colab": {
      "provenance": []
    },
    "kernelspec": {
      "name": "python3",
      "display_name": "Python 3"
    },
    "language_info": {
      "name": "python"
    },
    "accelerator": "GPU",
    "gpuClass": "standard"
  },
  "cells": [
    {
      "cell_type": "markdown",
      "source": [
        "# Data preprocessing"
      ],
      "metadata": {
        "id": "u0GqdXJguazW"
      }
    },
    {
      "cell_type": "code",
      "source": [
        "import os\n",
        "from PIL import Image\n",
        "import time"
      ],
      "metadata": {
        "id": "ktu_wkYRvI-K"
      },
      "execution_count": 1,
      "outputs": []
    },
    {
      "cell_type": "markdown",
      "source": [
        "We mount our shared folder in Google Drive.\n",
        "\n",
        "IMPORTANT: You must have a direct access to the 2023-ADHD-VCU-UPC folder in your main Google Drive root."
      ],
      "metadata": {
        "id": "FSY5Wk1RunSn"
      }
    },
    {
      "cell_type": "code",
      "execution_count": 2,
      "metadata": {
        "colab": {
          "base_uri": "https://localhost:8080/"
        },
        "id": "zVu23Lm7uY7n",
        "outputId": "a2728d31-1eb6-4267-b156-cb59fd5a4ce7"
      },
      "outputs": [
        {
          "output_type": "stream",
          "name": "stdout",
          "text": [
            "Mounted at /content/drive\n"
          ]
        }
      ],
      "source": [
        "from google.colab import drive\n",
        "# Make sure to include a direct access from your Drive to the project shared folder\n",
        "drive.mount('/content/drive')"
      ]
    },
    {
      "cell_type": "markdown",
      "source": [
        "### Choose the name for the new dataset and the categories of the dataset\n"
      ],
      "metadata": {
        "id": "TANJDy0z5-va"
      }
    },
    {
      "cell_type": "code",
      "source": [
        "rootdir = '/content/drive/MyDrive/2023-ADHD-VCU-UPC/all_data_raw/' # raw data dir\n",
        "new_dataset = \"all_data_processed\" # name for the new dataset\n",
        "categories = ['educational', 'gaming', 'entertainment', 'video', 'chatting']"
      ],
      "metadata": {
        "id": "yo_hBj845-I5"
      },
      "execution_count": 6,
      "outputs": []
    },
    {
      "cell_type": "code",
      "source": [
        "# Create new dataset root dir\n",
        "try:\n",
        "  new_dataset_dir = f\"/content/drive/MyDrive/2023-ADHD-VCU-UPC/{new_dataset}/\"\n",
        "  os.mkdir(new_dataset_dir)\n",
        "except:\n",
        "  print(f\"{new_dataset} already exists. Delete or Rename to create a new one\")\n",
        "\n",
        "# Create new dir per category inside dataset root dir\n",
        "for category in categories:\n",
        "  try:\n",
        "    new_dir = os.path.join(f\"/content/drive/MyDrive/2023-ADHD-VCU-UPC/{new_dataset}/\", category)\n",
        "    os.mkdir(new_dir)\n",
        "  except:\n",
        "    print(f\"{category} already exists. Delete or Rename to create a new one\")"
      ],
      "metadata": {
        "id": "t5qWP36Av-xw"
      },
      "execution_count": 29,
      "outputs": []
    },
    {
      "cell_type": "code",
      "source": [
        "start_time = time.time()\n",
        "counter = dict()\n",
        "for category in categories:\n",
        "  counter[category] = 0\n",
        "  category_dir = os.path.join(rootdir, category)\n",
        "  for root, subdirs, files in os.walk(category_dir):\n",
        "    if \"MAC\" not in root:\n",
        "      for subdir in subdirs:\n",
        "        for file in os.listdir(os.path.join(root, subdir)):\n",
        "          if (('png' in file) or ('jpg' in file) or ('jpeg' in file)):\n",
        "            im = Image.open(os.path.join(category_dir, subdir, file))\n",
        "            filemame = category + '_' + subdir + '_' + str(counter[category]) + '.jpg'\n",
        "            if 'png' in file:\n",
        "              im = im.convert('RGB')\n",
        "            im.save(os.path.join(new_dataset_dir, category, filemame))\n",
        "            counter[category] += 1\n",
        "print(f\"{(time.time() - start_time)/60} minutes\")\n",
        "print(counter)"
      ],
      "metadata": {
        "colab": {
          "base_uri": "https://localhost:8080/",
          "height": 217
        },
        "id": "oKdYuXVUuryP",
        "outputId": "c007f805-1cdb-44a2-8103-1af517cc4f3f"
      },
      "execution_count": 30,
      "outputs": [
        {
          "output_type": "error",
          "ename": "ValueError",
          "evalue": "ignored",
          "traceback": [
            "\u001b[0;31m---------------------------------------------------------------------------\u001b[0m",
            "\u001b[0;31mValueError\u001b[0m                                Traceback (most recent call last)",
            "\u001b[0;32m<ipython-input-30-c3ebafade749>\u001b[0m in \u001b[0;36m<module>\u001b[0;34m\u001b[0m\n\u001b[1;32m     15\u001b[0m             \u001b[0mim\u001b[0m\u001b[0;34m.\u001b[0m\u001b[0msave\u001b[0m\u001b[0;34m(\u001b[0m\u001b[0mos\u001b[0m\u001b[0;34m.\u001b[0m\u001b[0mpath\u001b[0m\u001b[0;34m.\u001b[0m\u001b[0mjoin\u001b[0m\u001b[0;34m(\u001b[0m\u001b[0mnew_dataset_dir\u001b[0m\u001b[0;34m,\u001b[0m \u001b[0mcategory\u001b[0m\u001b[0;34m,\u001b[0m \u001b[0mfilemame\u001b[0m\u001b[0;34m)\u001b[0m\u001b[0;34m)\u001b[0m\u001b[0;34m\u001b[0m\u001b[0;34m\u001b[0m\u001b[0m\n\u001b[1;32m     16\u001b[0m             \u001b[0mcounter\u001b[0m\u001b[0;34m[\u001b[0m\u001b[0mcategory\u001b[0m\u001b[0;34m]\u001b[0m \u001b[0;34m+=\u001b[0m \u001b[0;36m1\u001b[0m\u001b[0;34m\u001b[0m\u001b[0;34m\u001b[0m\u001b[0m\n\u001b[0;32m---> 17\u001b[0;31m \u001b[0mprint\u001b[0m\u001b[0;34m(\u001b[0m\u001b[0;34m\"--- %m minutes ---\"\u001b[0m \u001b[0;34m%\u001b[0m \u001b[0;34m(\u001b[0m\u001b[0mtime\u001b[0m\u001b[0;34m.\u001b[0m\u001b[0mtime\u001b[0m\u001b[0;34m(\u001b[0m\u001b[0;34m)\u001b[0m \u001b[0;34m-\u001b[0m \u001b[0mstart_time\u001b[0m\u001b[0;34m)\u001b[0m\u001b[0;34m/\u001b[0m\u001b[0;36m60\u001b[0m\u001b[0;34m)\u001b[0m\u001b[0;34m\u001b[0m\u001b[0;34m\u001b[0m\u001b[0m\n\u001b[0m\u001b[1;32m     18\u001b[0m \u001b[0mprint\u001b[0m\u001b[0;34m(\u001b[0m\u001b[0mcounter\u001b[0m\u001b[0;34m)\u001b[0m\u001b[0;34m\u001b[0m\u001b[0;34m\u001b[0m\u001b[0m\n",
            "\u001b[0;31mValueError\u001b[0m: unsupported format character 'm' (0x6d) at index 5"
          ]
        }
      ]
    }
  ]
}