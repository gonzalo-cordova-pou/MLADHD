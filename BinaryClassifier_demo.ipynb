{
 "cells": [
  {
   "cell_type": "markdown",
   "id": "8a46ae72",
   "metadata": {},
   "source": [
    "# NLP demo"
   ]
  },
  {
   "cell_type": "code",
   "execution_count": 40,
   "id": "78f4789f",
   "metadata": {},
   "outputs": [],
   "source": [
    "import mlflow.sklearn\n",
    "import os\n",
    "import numpy as np\n",
    "import pandas as pd\n",
    "\n",
    "# Load the model\n",
    "_id = \"9181fa7456f5409485a1c31ff235c76a\"\n",
    "# Use the id to load the model with mlflow.sklearn.load_model\n",
    "model = mlflow.sklearn.load_model(model_uri=\"runs:/\" + _id + \"/model\")"
   ]
  },
  {
   "cell_type": "code",
   "execution_count": 41,
   "id": "53126ebf",
   "metadata": {},
   "outputs": [],
   "source": [
    "texts = [\"inbox file edit\", \"shop game\"]\n",
    "samples = np.array(texts)\n",
    "# load the vectorizer artifact (vectorizer/model.pkl)\n",
    "vectorizer = mlflow.sklearn.load_model(model_uri=\"runs:/\" + _id + \"/vectorizer\")\n",
    "# transform the text\n",
    "X = vectorizer.transform(samples)"
   ]
  },
  {
   "cell_type": "code",
   "execution_count": 42,
   "id": "7f35959e",
   "metadata": {},
   "outputs": [],
   "source": [
    "# Make a prediction\n",
    "y_pred = model.predict(X)"
   ]
  },
  {
   "cell_type": "code",
   "execution_count": 43,
   "id": "7dce491e",
   "metadata": {},
   "outputs": [
    {
     "data": {
      "text/plain": [
       "array([0, 1], dtype=int64)"
      ]
     },
     "execution_count": 43,
     "metadata": {},
     "output_type": "execute_result"
    }
   ],
   "source": [
    "y_pred"
   ]
  },
  {
   "attachments": {},
   "cell_type": "markdown",
   "id": "321bfd9d",
   "metadata": {},
   "source": [
    "## Try on dataset"
   ]
  },
  {
   "cell_type": "code",
   "execution_count": 44,
   "id": "d7f9dd64",
   "metadata": {},
   "outputs": [],
   "source": [
    "csvFile = \"E:\\\\mladhd\\\\datasets\\\\text\\\\data_clean_large.csv\"\n",
    "df = pd.read_csv(csvFile, sep=';')\n",
    "df = df.dropna()"
   ]
  },
  {
   "cell_type": "code",
   "execution_count": 45,
   "id": "9ff412c3",
   "metadata": {},
   "outputs": [],
   "source": [
    "# Predict the whole dataset\n",
    "X = vectorizer.transform(df['text'])\n",
    "y_pred = model.predict(X)\n",
    "df['pred'] = y_pred"
   ]
  },
  {
   "cell_type": "code",
   "execution_count": 46,
   "id": "d5052f32",
   "metadata": {},
   "outputs": [
    {
     "data": {
      "text/html": [
       "<div>\n",
       "<style scoped>\n",
       "    .dataframe tbody tr th:only-of-type {\n",
       "        vertical-align: middle;\n",
       "    }\n",
       "\n",
       "    .dataframe tbody tr th {\n",
       "        vertical-align: top;\n",
       "    }\n",
       "\n",
       "    .dataframe thead th {\n",
       "        text-align: right;\n",
       "    }\n",
       "</style>\n",
       "<table border=\"1\" class=\"dataframe\">\n",
       "  <thead>\n",
       "    <tr style=\"text-align: right;\">\n",
       "      <th></th>\n",
       "      <th>class</th>\n",
       "      <th>text</th>\n",
       "      <th>image</th>\n",
       "      <th>pred</th>\n",
       "    </tr>\n",
       "  </thead>\n",
       "  <tbody>\n",
       "    <tr>\n",
       "      <th>452</th>\n",
       "      <td>0</td>\n",
       "      <td>Period 11 Posting Google &amp; google.com/sea Ques...</td>\n",
       "      <td>focused_Astronomy_one_452.jpg</td>\n",
       "      <td>1</td>\n",
       "    </tr>\n",
       "    <tr>\n",
       "      <th>1804</th>\n",
       "      <td>0</td>\n",
       "      <td>Overflow * What is the result of an arithmetic...</td>\n",
       "      <td>focused_ComputerScience_one_1804.jpg</td>\n",
       "      <td>1</td>\n",
       "    </tr>\n",
       "    <tr>\n",
       "      <th>1806</th>\n",
       "      <td>0</td>\n",
       "      <td>YouTube CMSC 311 Lecture 3/28/23 © Unlisted Cl...</td>\n",
       "      <td>focused_ComputerScience_one_1806.jpg</td>\n",
       "      <td>1</td>\n",
       "    </tr>\n",
       "    <tr>\n",
       "      <th>2925</th>\n",
       "      <td>0</td>\n",
       "      <td>W George Washington - Wikipedia x @ enwikipedi...</td>\n",
       "      <td>focused_extra_one_2925.jpg</td>\n",
       "      <td>1</td>\n",
       "    </tr>\n",
       "    <tr>\n",
       "      <th>2963</th>\n",
       "      <td>0</td>\n",
       "      <td>Sum = 35   &amp; an) (EE canes oi a AAA 33 oe D&gt;&gt;D...</td>\n",
       "      <td>focused_extra_one_2963.jpg</td>\n",
       "      <td>1</td>\n",
       "    </tr>\n",
       "    <tr>\n",
       "      <th>...</th>\n",
       "      <td>...</td>\n",
       "      <td>...</td>\n",
       "      <td>...</td>\n",
       "      <td>...</td>\n",
       "    </tr>\n",
       "    <tr>\n",
       "      <th>11680</th>\n",
       "      <td>1</td>\n",
       "      <td>1. Study related work to know the state-of-the...</td>\n",
       "      <td>distracted_youtube_partial_3074.jpg</td>\n",
       "      <td>0</td>\n",
       "    </tr>\n",
       "    <tr>\n",
       "      <th>11681</th>\n",
       "      <td>1</td>\n",
       "      <td>Share 13k While it is true that the TFG is dev...</td>\n",
       "      <td>distracted_youtube_partial_3075.jpg</td>\n",
       "      <td>0</td>\n",
       "    </tr>\n",
       "    <tr>\n",
       "      <th>11685</th>\n",
       "      <td>1</td>\n",
       "      <td>Share Milestone 1: Related work study Particip...</td>\n",
       "      <td>distracted_youtube_partial_3079.jpg</td>\n",
       "      <td>0</td>\n",
       "    </tr>\n",
       "    <tr>\n",
       "      <th>11689</th>\n",
       "      <td>1</td>\n",
       "      <td>Short description: Identifying and reviewing p...</td>\n",
       "      <td>distracted_youtube_partial_3083.jpg</td>\n",
       "      <td>0</td>\n",
       "    </tr>\n",
       "    <tr>\n",
       "      <th>11699</th>\n",
       "      <td>1</td>\n",
       "      <td>Learn more IZ I Sz il Universit) 13M views 1 y...</td>\n",
       "      <td>distracted_youtube_partial_3093.jpg</td>\n",
       "      <td>0</td>\n",
       "    </tr>\n",
       "  </tbody>\n",
       "</table>\n",
       "<p>127 rows × 4 columns</p>\n",
       "</div>"
      ],
      "text/plain": [
       "       class                                               text  \\\n",
       "452        0  Period 11 Posting Google & google.com/sea Ques...   \n",
       "1804       0  Overflow * What is the result of an arithmetic...   \n",
       "1806       0  YouTube CMSC 311 Lecture 3/28/23 © Unlisted Cl...   \n",
       "2925       0  W George Washington - Wikipedia x @ enwikipedi...   \n",
       "2963       0  Sum = 35   & an) (EE canes oi a AAA 33 oe D>>D...   \n",
       "...      ...                                                ...   \n",
       "11680      1  1. Study related work to know the state-of-the...   \n",
       "11681      1  Share 13k While it is true that the TFG is dev...   \n",
       "11685      1  Share Milestone 1: Related work study Particip...   \n",
       "11689      1  Short description: Identifying and reviewing p...   \n",
       "11699      1  Learn more IZ I Sz il Universit) 13M views 1 y...   \n",
       "\n",
       "                                      image  pred  \n",
       "452           focused_Astronomy_one_452.jpg     1  \n",
       "1804   focused_ComputerScience_one_1804.jpg     1  \n",
       "1806   focused_ComputerScience_one_1806.jpg     1  \n",
       "2925             focused_extra_one_2925.jpg     1  \n",
       "2963             focused_extra_one_2963.jpg     1  \n",
       "...                                     ...   ...  \n",
       "11680   distracted_youtube_partial_3074.jpg     0  \n",
       "11681   distracted_youtube_partial_3075.jpg     0  \n",
       "11685   distracted_youtube_partial_3079.jpg     0  \n",
       "11689   distracted_youtube_partial_3083.jpg     0  \n",
       "11699   distracted_youtube_partial_3093.jpg     0  \n",
       "\n",
       "[127 rows x 4 columns]"
      ]
     },
     "execution_count": 46,
     "metadata": {},
     "output_type": "execute_result"
    }
   ],
   "source": [
    "# See wrong predictions\n",
    "wrong = df[df['pred'] != df['class']]\n",
    "wrong\n"
   ]
  },
  {
   "cell_type": "code",
   "execution_count": 47,
   "id": "cdaf4425",
   "metadata": {},
   "outputs": [
    {
     "name": "stdout",
     "output_type": "stream",
     "text": [
      "Image: distracted_twitch_partial_2363.jpg - Class: 1 - Predicted: 0\n",
      "Text: lcome to the chat room Welcome to the chat room! Ba ¥ InTheThanos22: 1 more hr of clash then‘ Mr_Grumplestiltskin: !carrots JakesJungle: Carrots : mr_grumplestiltskin [139 Hrs] - 1,658 Mi sruna is: @Big_Daddy_Patti D: it's too soon for that (2 TaliBoy_Ryan: i took today off bungie it’s my one day off every 10 years and you do this @ a a_loaf_of_soup: no (QJ BY irchens: | need to get more roses today lol a colorless5917 4¢16,000 8 swift... #¢10,000 ey hotaru... @5,000 ? STREAM CHAT arch SSVIPERZ - $215 f TOP WEEKLY 0 SSVIPERZ - $215 20,534 <> | @ @Q-~, |e) 276 rT A GOC 72567 Ww es a w Subscribe Vv i) Log In >] oO @ Guest (2) Pion ED 2 Organic Chemistry IL Glossar Organic Chemistry | Glossary Math Word Problems Glossary Oxidation is the loss of electron(s) by a species, and reduction is the gain of electron(s). Oxidation and reduction occur simultaneously in redox reactions. In a balanced redox equation, the total number of electrons lost equals the total gained. Voltaic cells (batteries) use redox reactions to cause a flow of electrons. Electrolytic cells are just the opposite and use a flow of electrons to cause a chemical reaction. The charge on one mole of electrons is called the Faraday. One Faraday will reduce one mole of Na* to Mark Twair Glossary of acidity or basicity of a solution. If pH is less than 7, the solution is acidic  if greater than 7, basic  if exactly 7, neutral. pH = -log[H*]. ools-and-resources/chemistry-cheat-shee ol/ € Cc @ cliffsnotes.com/test-prep/high-sct erecrany rere Poetry Glossary of acidity or basicity of a: => oO (S) Guest (2 UTC Is & R s: Chemist (9) Chemistry Formulas Cheat She\n"
     ]
    }
   ],
   "source": [
    "# see a random wrong prediction\n",
    "rand_wrong = wrong.sample(1).iloc[0]\n",
    "print(\"Image: \" + str(rand_wrong.image) + \" - Class: \" + str(rand_wrong['class']) + \" - Predicted: \" + str(rand_wrong.pred))\n",
    "print(\"Text: \" + str(rand_wrong.text))"
   ]
  }
 ],
 "metadata": {
  "kernelspec": {
   "display_name": "env_mladhd",
   "language": "python",
   "name": "python3"
  },
  "language_info": {
   "codemirror_mode": {
    "name": "ipython",
    "version": 3
   },
   "file_extension": ".py",
   "mimetype": "text/x-python",
   "name": "python",
   "nbconvert_exporter": "python",
   "pygments_lexer": "ipython3",
   "version": "3.10.9"
  }
 },
 "nbformat": 4,
 "nbformat_minor": 5
}
