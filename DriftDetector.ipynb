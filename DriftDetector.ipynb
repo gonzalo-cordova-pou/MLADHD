{
 "cells": [
  {
   "cell_type": "code",
   "execution_count": 2,
   "id": "8c59f8eb",
   "metadata": {},
   "outputs": [],
   "source": [
    "import sys\n",
    "sys.path.insert(0, '../')\n",
    "\n",
    "import torch\n",
    "import torchvision\n",
    "import torchdrift\n",
    "import copy\n",
    "%matplotlib inline\n",
    "from matplotlib import pyplot\n",
    "\n",
    "device = \"cuda\" if torch.cuda.is_available else \"cpu\""
   ]
  },
  {
   "cell_type": "code",
   "execution_count": 5,
   "id": "4886caec",
   "metadata": {},
   "outputs": [],
   "source": [
    "from os import listdir\n",
    "from os.path import isfile, join\n",
    "import pandas as pd\n",
    "import random\n",
    "import torch\n",
    "import numpy as np\n",
    "from torch import nn, optim\n",
    "from torchvision import datasets, transforms\n",
    "from torch.utils.data import sampler, DataLoader\n",
    "from torchvision.models import resnet50, ResNet50_Weights\n",
    "from codecarbon import EmissionsTracker\n",
    "import matplotlib.pyplot as plt\n",
    "import time\n",
    "import os\n",
    "import ipyplot"
   ]
  },
  {
   "cell_type": "code",
   "execution_count": 7,
   "id": "99182a25",
   "metadata": {},
   "outputs": [
    {
     "name": "stdout",
     "output_type": "stream",
     "text": [
      "Using cuda device\n"
     ]
    }
   ],
   "source": [
    "from mlmodeling import *"
   ]
  },
  {
   "cell_type": "code",
   "execution_count": 9,
   "id": "6fd445bb",
   "metadata": {},
   "outputs": [
    {
     "name": "stdout",
     "output_type": "stream",
     "text": [
      "Loading hyperparams...\n",
      "Model loaded from:  D:\\Alerta Backup Data\\gonzalo_data\\models\\model_with_extended_dataset_resnet50_2023-03-28_10-42-07.pth\n"
     ]
    }
   ],
   "source": [
    "data_dir = 'D:\\\\Alerta Backup Data\\\\gonzalo_data\\\\screenshots'\n",
    "models_dir = 'D:\\\\Alerta Backup Data\\\\gonzalo_data\\\\models\\\\'\n",
    "pretrained_model = 'model_with_extended_dataset_resnet50_2023-03-28_10-42-07'\n",
    "model_name = pretrained_model.split('_')[0]\n",
    "print(\"Loading hyperparams...\")\n",
    "with open(models_dir+pretrained_model+'.json', 'r') as fp:\n",
    "    hyperparams = json.load(fp)\n",
    "# when loading a pretrained model, the date is updated to the current date\n",
    "# so that the model is not overwritten (see __init__)\n",
    "experiment2 = MLADHD(model_name, data_dir, models_dir, hyperparams)\n",
    "experiment2.load_model(os.path.join(models_dir,  pretrained_model + '.pth'))\n",
    "device = torch.device(\"cuda:0\" if torch.cuda.is_available() else \"cpu\")\n",
    "experiment2.model = experiment2.model.to(device)"
   ]
  },
  {
   "cell_type": "markdown",
   "id": "ffbb0372",
   "metadata": {},
   "source": [
    "To instantiate our monitor, we need an alarm function. I just raise an exception, but you could also text the AI facility management or so."
   ]
  },
  {
   "cell_type": "code",
   "execution_count": 11,
   "id": "ecfb58c2",
   "metadata": {},
   "outputs": [],
   "source": [
    "experiment2.model.eval().to(device)\n",
    "for p in experiment2.model.parameters():\n",
    "    p.requires_grad_(False)"
   ]
  },
  {
   "cell_type": "code",
   "execution_count": null,
   "id": "8978bc67",
   "metadata": {},
   "outputs": [],
   "source": [
    "def fit_detector(N_train):\n",
    "    detector = torchdrift.detectors.KernelMMDDriftDetector(return_p_value=True)\n",
    "    dl_train = torch.utils.data.DataLoader(ds_train, batch_size=N_train, shuffle=True)\n",
    "    feature_extractor = model[:2]  # without the fc layer\n",
    "    torchdrift.utils.fit(dl_train, feature_extractor, detector, num_batches=1)\n",
    "    return detector\n",
    "\n",
    "detector = fit_detector(N_train = 100)"
   ]
  }
 ],
 "metadata": {
  "kernelspec": {
   "display_name": "Python [conda env:MLADHD_env]",
   "language": "python",
   "name": "conda-env-MLADHD_env-py"
  },
  "language_info": {
   "codemirror_mode": {
    "name": "ipython",
    "version": 3
   },
   "file_extension": ".py",
   "mimetype": "text/x-python",
   "name": "python",
   "nbconvert_exporter": "python",
   "pygments_lexer": "ipython3",
   "version": "3.10.10"
  }
 },
 "nbformat": 4,
 "nbformat_minor": 5
}
