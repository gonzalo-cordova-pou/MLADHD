{
 "cells": [
  {
   "attachments": {},
   "cell_type": "markdown",
   "id": "b4d3e813",
   "metadata": {},
   "source": [
    "# BagOfWords approach for classification"
   ]
  },
  {
   "cell_type": "code",
   "execution_count": 56,
   "id": "b7c7ef7b",
   "metadata": {},
   "outputs": [],
   "source": [
    "import pandas as pd\n",
    "import numpy as np\n",
    "import matplotlib.pyplot as plt\n",
    "from sklearn.feature_extraction.text import TfidfVectorizer\n",
    "from sklearn.model_selection import train_test_split\n",
    "from sklearn.linear_model import LogisticRegression\n",
    "from sklearn import metrics\n",
    "from sklearn.feature_extraction.text import TfidfTransformer\n",
    "from sklearn.naive_bayes import MultinomialNB\n",
    "from sklearn.ensemble import RandomForestClassifier\n",
    "from sklearn import svm\n",
    "import string\n",
    "import time\n",
    "import os\n",
    "import mlflow"
   ]
  },
  {
   "cell_type": "code",
   "execution_count": 57,
   "id": "e06ff3ad",
   "metadata": {},
   "outputs": [],
   "source": [
    "ENGLISH_STOP_WORDS = {'all', 'both', 'am', 'themselves', 'often', 'if', 'becoming', 'thence', 'while', 've', 'couldn', 'mostly', 'ma', 'more', 'de', 'thin', 'seems', 'do', 'sometime', 'across', 'nine', 'namely', 'hers', 'amoungst', 'needn', 'sixty', 'what', 'why', 'nevertheless', 'co', 'mustn', 'bottom', 'although', 'own', 'having', 'was', 'cant', 'from', 'll', 'etc', 'on', 'herself', 'had', 'beforehand', 'empty', 'they', 'less', 'seem', 'hasnt', 'he', 'serious', 'himself', 'whereafter', 'is', 'over', 'became', 'give', 'below', 'ain', 'yourselves', 'each', 'anyhow', 'one', 'moreover', 'where', 'might', 'already', 're', 'until', 'that', 'theirs', 'anywhere', 'other', 'through', 'should', 'at', 'fifteen', 'sometimes', 'bill', 'upon', 'describe', 'perhaps', 'after', 'there', 'not', 'whereas', 'around', 'this', 'eg', 'call', 'ours', 'can', 'who', 'besides', 'same', 'to', 'seemed', 'your', 'thick', 'whereupon', 'anyone', 'when', 'wasn', 'whoever', 'haven', 'be', 'either', 'rather', 'inc', 'has', 'ie', 'twenty', 'amongst', 'about', 'none', 'however', 'the', 'system', 'been', 'still', 'otherwise', 'two', 'whenever', 'their', 'because', 'but', 'y', 'for', 'former', 'which', 'due', 'i', 'does', 'onto', 'him', 'five', 'doesn', 'nowhere', 'of', 'those', 'behind', 'hereupon', 'latter', 'too', 'move', 'us', 'them', 'just', 'as', 'everything', 'any', 'everywhere', 'it', 'get', 'hadn', 'much', 'find', 'something', 'won', 'always', 'fire', 'couldnt', 'ourselves', 'yet', 'almost', 'now', 'twelve', 'mightn', 'o', 'under', 'some', 'no', 'eight', 'somewhere', 'together', 'anything', 'within', 'don', 'beside', 'most', 'mill', 'nothing', 'sincere', 'per', 'many', 'nor', 'thru', 'into', 'beyond', 'have', 'than', 'weren', 'therein', 'ten', 'its', 'take', 'towards', 'very', 'with', 'm', 'cry', 'also', 'were', 'since', 'ltd', 'whose', 'several', 'between', 'how', 'become', 'itself', 'here', 'formerly', 'in', 'back', 'becomes', 'thereupon', 'else', 'didn', 'third', 'without', 'name', 'whence', 'among', 'ever', 'first', 'keep', 'made', 'you', 'least', 'amount', 'an', 'except', 'whole', 'up', 'next', 'fify', 'someone', 'aren', 'interest', 'others', 'part', 'noone', 'throughout', 'found', 'thereafter', 'thus', 'must', 'yours', 'only', 'by', 'wherever', 'during', 'her', 'could', 'cannot', 'full', 'd', 'hundred', 'myself', 'herein', 'seeming', 'or', 'isn', 'elsewhere', 'side', 'well', 'then', 'done', 'hereby', 'may', 'off', 'go', 'being', 'once', 'put', 'indeed', 'enough', 'con', 'please', 'eleven', 'few', 'whereby', 'my', 'whether', 'detail', 'meanwhile', 'our', 'so', 'another', 'such', 'see', 'down', 'shan', 'neither', 'hence', 'will', 'never', 'mine', 'wouldn', 'somehow', 'whither', 'every', 'even', 'a', 'along', 'front', 'hereafter', 'are', 'forty', 'nobody', 'before', 'therefore', 'we', 'fill', 'four', 'three', 'alone', 'hasn', 't', 'afterwards', 'yourself', 'would', 'shouldn', 'six', 'against', 'anyway', 'wherein', 'doing', 'last', 'again', 'me', 'his', 'and', 'whom', 'whatever', 'thereby', 'she', 'above', 'further', 'these', 'top', 'via', 'though', 'out', 'un', 's', 'show', 'toward', 'everyone', 'latterly', 'did'}"
   ]
  },
  {
   "cell_type": "code",
   "execution_count": 58,
   "id": "3998a3b4",
   "metadata": {},
   "outputs": [],
   "source": [
    "#Function for basic cleaning/preprocessing texts\n",
    "def clean(doc):\n",
    "    # Removal of punctuation marks (.,/\\][{} etc) and numbers\n",
    "    doc = \"\".join([char for char in doc if char not in string.punctuation and not char.isdigit()])\n",
    "    # Removal of stopwords\n",
    "    doc = \" \".join([token for token in doc.split() if token not in ENGLISH_STOP_WORDS])\n",
    "    # Removal of accents\n",
    "    doc = doc.encode('ascii', 'ignore').decode('ascii')\n",
    "    # Removal of whitespaces\n",
    "    doc = \" \".join(doc.split())\n",
    "    # Lowercasing\n",
    "    return doc.lower()"
   ]
  },
  {
   "cell_type": "code",
   "execution_count": 59,
   "id": "992b77d3",
   "metadata": {},
   "outputs": [],
   "source": [
    "# MODELS for text classification\n",
    "C = 2  # regularization parameter\n",
    "\n",
    "models = {\n",
    "    \"Logistic Regression\": LogisticRegression(penalty='l2', C=C),\n",
    "    \"Multinomial Naive Bayes\": MultinomialNB(),\n",
    "    'Random Forest': RandomForestClassifier(n_estimators=1000, random_state=0)\n",
    "}\n"
   ]
  },
  {
   "cell_type": "code",
   "execution_count": 60,
   "id": "4f050fef",
   "metadata": {},
   "outputs": [],
   "source": [
    "csvFile = \"dataset\""
   ]
  },
  {
   "cell_type": "code",
   "execution_count": 61,
   "id": "1b84a730",
   "metadata": {},
   "outputs": [],
   "source": [
    "df = pd.read_csv(csvFile, sep=';')"
   ]
  },
  {
   "cell_type": "code",
   "execution_count": 62,
   "id": "be7840da",
   "metadata": {},
   "outputs": [
    {
     "data": {
      "text/html": [
       "<div>\n",
       "<style scoped>\n",
       "    .dataframe tbody tr th:only-of-type {\n",
       "        vertical-align: middle;\n",
       "    }\n",
       "\n",
       "    .dataframe tbody tr th {\n",
       "        vertical-align: top;\n",
       "    }\n",
       "\n",
       "    .dataframe thead th {\n",
       "        text-align: right;\n",
       "    }\n",
       "</style>\n",
       "<table border=\"1\" class=\"dataframe\">\n",
       "  <thead>\n",
       "    <tr style=\"text-align: right;\">\n",
       "      <th></th>\n",
       "      <th>class</th>\n",
       "      <th>text</th>\n",
       "      <th>image</th>\n",
       "    </tr>\n",
       "  </thead>\n",
       "  <tbody>\n",
       "    <tr>\n",
       "      <th>0</th>\n",
       "      <td>0</td>\n",
       "      <td>Next? &lt; Pre\\ Here are slide . ES02 Session ¢ s...</td>\n",
       "      <td>focused_Algorithms_one_0.jpg</td>\n",
       "    </tr>\n",
       "    <tr>\n",
       "      <th>1</th>\n",
       "      <td>0</td>\n",
       "      <td>wax Next? &lt; Prey Here are My ae) Ac Creativ ra...</td>\n",
       "      <td>focused_Algorithms_one_1.jpg</td>\n",
       "    </tr>\n",
       "    <tr>\n",
       "      <th>2</th>\n",
       "      <td>0</td>\n",
       "      <td>ee Next? &lt; Prey an —. th Here are My ae) Ac ea...</td>\n",
       "      <td>focused_Algorithms_one_10.jpg</td>\n",
       "    </tr>\n",
       "    <tr>\n",
       "      <th>3</th>\n",
       "      <td>0</td>\n",
       "      <td>eK (h) P2* Pi2° ~yP: eps a Po (h) Graham’s Sca...</td>\n",
       "      <td>focused_Algorithms_one_100.jpg</td>\n",
       "    </tr>\n",
       "    <tr>\n",
       "      <th>4</th>\n",
       "      <td>0</td>\n",
       "      <td>ee Graham’s Scan: Start with bottom point Calc...</td>\n",
       "      <td>focused_Algorithms_one_101.jpg</td>\n",
       "    </tr>\n",
       "    <tr>\n",
       "      <th>...</th>\n",
       "      <td>...</td>\n",
       "      <td>...</td>\n",
       "      <td>...</td>\n",
       "    </tr>\n",
       "    <tr>\n",
       "      <th>14186</th>\n",
       "      <td>1</td>\n",
       "      <td>comment Add 2,859 Comments = Sort by 17M views...</td>\n",
       "      <td>distracted_youtube_partial_5008.jpg</td>\n",
       "    </tr>\n",
       "    <tr>\n",
       "      <th>14187</th>\n",
       "      <td>1</td>\n",
       "      <td>6 key moments in this video YouTube - Red Bull...</td>\n",
       "      <td>distracted_youtube_partial_5009.jpg</td>\n",
       "    </tr>\n",
       "    <tr>\n",
       "      <th>14188</th>\n",
       "      <td>1</td>\n",
       "      <td>“a. Add a comment 666 Comments Sort by Today w...</td>\n",
       "      <td>distracted_youtube_partial_5010.jpg</td>\n",
       "    </tr>\n",
       "    <tr>\n",
       "      <th>14189</th>\n",
       "      <td>1</td>\n",
       "      <td>Learn more IZ I Sz il Universit) 13M views 1 y...</td>\n",
       "      <td>distracted_youtube_partial_5011.jpg</td>\n",
       "    </tr>\n",
       "    <tr>\n",
       "      <th>14190</th>\n",
       "      <td>1</td>\n",
       "      <td>Sean Murphy 3 months ago Dude, the guy who cam...</td>\n",
       "      <td>distracted_youtube_partial_5012.jpg</td>\n",
       "    </tr>\n",
       "  </tbody>\n",
       "</table>\n",
       "<p>14191 rows × 3 columns</p>\n",
       "</div>"
      ],
      "text/plain": [
       "       class                                               text   \n",
       "0          0  Next? < Pre\\ Here are slide . ES02 Session ¢ s...  \\\n",
       "1          0  wax Next? < Prey Here are My ae) Ac Creativ ra...   \n",
       "2          0  ee Next? < Prey an —. th Here are My ae) Ac ea...   \n",
       "3          0  eK (h) P2* Pi2° ~yP: eps a Po (h) Graham’s Sca...   \n",
       "4          0  ee Graham’s Scan: Start with bottom point Calc...   \n",
       "...      ...                                                ...   \n",
       "14186      1  comment Add 2,859 Comments = Sort by 17M views...   \n",
       "14187      1  6 key moments in this video YouTube - Red Bull...   \n",
       "14188      1  “a. Add a comment 666 Comments Sort by Today w...   \n",
       "14189      1  Learn more IZ I Sz il Universit) 13M views 1 y...   \n",
       "14190      1  Sean Murphy 3 months ago Dude, the guy who cam...   \n",
       "\n",
       "                                     image  \n",
       "0             focused_Algorithms_one_0.jpg  \n",
       "1             focused_Algorithms_one_1.jpg  \n",
       "2            focused_Algorithms_one_10.jpg  \n",
       "3           focused_Algorithms_one_100.jpg  \n",
       "4           focused_Algorithms_one_101.jpg  \n",
       "...                                    ...  \n",
       "14186  distracted_youtube_partial_5008.jpg  \n",
       "14187  distracted_youtube_partial_5009.jpg  \n",
       "14188  distracted_youtube_partial_5010.jpg  \n",
       "14189  distracted_youtube_partial_5011.jpg  \n",
       "14190  distracted_youtube_partial_5012.jpg  \n",
       "\n",
       "[14191 rows x 3 columns]"
      ]
     },
     "execution_count": 62,
     "metadata": {},
     "output_type": "execute_result"
    }
   ],
   "source": [
    "df"
   ]
  },
  {
   "cell_type": "code",
   "execution_count": 63,
   "id": "f0bbe660",
   "metadata": {},
   "outputs": [
    {
     "data": {
      "text/plain": [
       "class      0\n",
       "text     181\n",
       "image      0\n",
       "dtype: int64"
      ]
     },
     "execution_count": 63,
     "metadata": {},
     "output_type": "execute_result"
    }
   ],
   "source": [
    "# count NaN values in each column\n",
    "df.isnull().sum()"
   ]
  },
  {
   "cell_type": "code",
   "execution_count": 64,
   "id": "531f6730",
   "metadata": {},
   "outputs": [
    {
     "name": "stdout",
     "output_type": "stream",
     "text": [
      "6\n",
      "175\n"
     ]
    }
   ],
   "source": [
    "# dataframe with the rows that have NaN values\n",
    "df_0 = df[df['class'] == 0]\n",
    "nan_df_0 = df_0[df_0.isna().any(axis=1)]\n",
    "df_1 = df[df['class'] == 1]\n",
    "nan_df_1 = df_1[df_1.isna().any(axis=1)]\n",
    "print(len(nan_df_0))\n",
    "print(len(nan_df_1))"
   ]
  },
  {
   "cell_type": "code",
   "execution_count": 65,
   "id": "4b9d5055",
   "metadata": {},
   "outputs": [],
   "source": [
    "# drop rows with NaN values\n",
    "df = df.dropna()"
   ]
  },
  {
   "cell_type": "code",
   "execution_count": 66,
   "id": "fb2f8cc5",
   "metadata": {},
   "outputs": [],
   "source": [
    "vectorizer = TfidfVectorizer(preprocessor=clean)\n",
    "# Create sample set of documents\n",
    "docs = df.text.to_numpy()"
   ]
  },
  {
   "cell_type": "code",
   "execution_count": 67,
   "id": "76b775d3",
   "metadata": {},
   "outputs": [
    {
     "data": {
      "text/plain": [
       "(14010, 111874)"
      ]
     },
     "execution_count": 67,
     "metadata": {},
     "output_type": "execute_result"
    }
   ],
   "source": [
    "# Fit the TFIDF (BoW + idf) model\n",
    "idf_bag = vectorizer.fit_transform(docs)\n",
    "idf_bag.shape"
   ]
  },
  {
   "cell_type": "code",
   "execution_count": 68,
   "id": "e8ba82d2",
   "metadata": {},
   "outputs": [
    {
     "name": "stdout",
     "output_type": "stream",
     "text": [
      "111874\n"
     ]
    }
   ],
   "source": [
    "# Get unique words / tokens found in all the documents. The unique words / tokens represents\n",
    "# the features\n",
    "print(len(vectorizer.get_feature_names_out()))"
   ]
  },
  {
   "cell_type": "code",
   "execution_count": 69,
   "id": "6bb4846b",
   "metadata": {},
   "outputs": [
    {
     "name": "stdout",
     "output_type": "stream",
     "text": [
      "[[0. 0. 0. ... 0. 0. 0.]\n",
      " [0. 0. 0. ... 0. 0. 0.]\n",
      " [0. 0. 0. ... 0. 0. 0.]\n",
      " ...\n",
      " [0. 0. 0. ... 0. 0. 0.]\n",
      " [0. 0. 0. ... 0. 0. 0.]\n",
      " [0. 0. 0. ... 0. 0. 0.]]\n"
     ]
    }
   ],
   "source": [
    "# Print the numerical feature vector\n",
    "print(idf_bag.toarray())"
   ]
  },
  {
   "cell_type": "code",
   "execution_count": 70,
   "id": "4d9dbc07",
   "metadata": {},
   "outputs": [],
   "source": [
    "# Creating training data\n",
    "X = idf_bag.toarray()\n",
    "y = df[\"class\"].to_numpy()"
   ]
  },
  {
   "cell_type": "code",
   "execution_count": 71,
   "id": "12f9cc3b",
   "metadata": {},
   "outputs": [],
   "source": [
    "# Create training and test split\n",
    "train_split = 0.8\n",
    "test_split = 0.2\n",
    "if train_split + test_split > 1:\n",
    "    raise ValueError(\"Train and test split must sum to 1\")\n",
    "X_train, X_test, y_train, y_test = train_test_split(X, y, train_size=train_split)"
   ]
  },
  {
   "attachments": {},
   "cell_type": "markdown",
   "id": "c20accfe",
   "metadata": {},
   "source": [
    "## Choose a model"
   ]
  },
  {
   "cell_type": "code",
   "execution_count": 72,
   "id": "eeb9b858",
   "metadata": {},
   "outputs": [],
   "source": [
    "model_name = \"Logistic Regression\" # \"Random Forest\" or \"Multinomial Naive Bayes\"\n",
    "model = models[model_name]"
   ]
  },
  {
   "cell_type": "code",
   "execution_count": 73,
   "id": "53720a58",
   "metadata": {},
   "outputs": [
    {
     "data": {
      "text/plain": [
       "\"[2, 'l2']\""
      ]
     },
     "execution_count": 73,
     "metadata": {},
     "output_type": "execute_result"
    }
   ],
   "source": [
    "mlflow.set_experiment(experiment_name=\"MLADHD_Experiments_Text\")\n",
    "mlflow.start_run()\n",
    "mlflow.log_param(\"model\", model_name)\n",
    "mlflow.log_param(\"dataset\", csvFile)\n",
    "mlflow.log_param(\"data_size\", len(df))\n",
    "mlflow.log_param(\"data_split\", str((train_split, test_split)))\n",
    "mlflow.log_param(\"model_params\", str([C, 'l2']))"
   ]
  },
  {
   "cell_type": "code",
   "execution_count": 74,
   "id": "b87da3fa",
   "metadata": {},
   "outputs": [
    {
     "name": "stdout",
     "output_type": "stream",
     "text": [
      "Training time: 113.79805517196655\n"
     ]
    }
   ],
   "source": [
    "# Fit the model\n",
    "start = time.time()\n",
    "model.fit(X_train, y_train)\n",
    "end = time.time()\n",
    "print(f\"Training time: {end - start}\")\n",
    "mlflow.log_metric(\"training_time\", end - start)"
   ]
  },
  {
   "cell_type": "code",
   "execution_count": 75,
   "id": "e3f67370",
   "metadata": {},
   "outputs": [],
   "source": [
    "# Create the predictions\n",
    "y_predict = model.predict(X_test)"
   ]
  },
  {
   "cell_type": "code",
   "execution_count": 76,
   "id": "da397c85",
   "metadata": {},
   "outputs": [],
   "source": [
    "# Select a test_split of the nan_dfs\n",
    "nan_df_0 = nan_df_0.sample(frac=test_split)\n",
    "nan_df_1 = nan_df_1.sample(frac=test_split)\n",
    "# Concatenate the nan_dfs\n",
    "nan_df = pd.concat([nan_df_0, nan_df_1])\n",
    "# Iterate over the nan_dfs and add wrong predictions to the dataframe\n",
    "# If no text is provided, the prediction is 0 (focused as default)\n",
    "for index, row in nan_df.iterrows():\n",
    "    real_class = row[\"class\"]\n",
    "    y_test = np.append(y_test, real_class)\n",
    "    y_predict = np.append(y_predict, 0)"
   ]
  },
  {
   "cell_type": "code",
   "execution_count": 77,
   "id": "054b4276",
   "metadata": {},
   "outputs": [
    {
     "data": {
      "text/plain": [
       "1"
      ]
     },
     "execution_count": 77,
     "metadata": {},
     "output_type": "execute_result"
    }
   ],
   "source": [
    "len(nan_df_0)"
   ]
  },
  {
   "cell_type": "code",
   "execution_count": 78,
   "id": "ccf0f65b",
   "metadata": {},
   "outputs": [
    {
     "data": {
      "text/plain": [
       "35"
      ]
     },
     "execution_count": 78,
     "metadata": {},
     "output_type": "execute_result"
    }
   ],
   "source": [
    "len(nan_df_1)"
   ]
  },
  {
   "cell_type": "code",
   "execution_count": 79,
   "id": "3cb6fe5b",
   "metadata": {},
   "outputs": [
    {
     "name": "stdout",
     "output_type": "stream",
     "text": [
      "Model accuracy:  0.966878083157153\n",
      "Model precision:  0.9644723092998955\n",
      "Model recall:  0.9389623601220752\n",
      "Model f1-score:  0.9515463917525773\n"
     ]
    },
    {
     "data": {
      "image/png": "[encoded data removed]",
      "text/plain": [
       "<Figure size 640x480 with 2 Axes>"
      ]
     },
     "metadata": {},
     "output_type": "display_data"
    }
   ],
   "source": [
    "# Compute the accuracy, precision, recall and f1-score\n",
    "print(\"Model accuracy: \", metrics.accuracy_score(y_test, y_predict))\n",
    "print(\"Model precision: \", metrics.precision_score(y_test, y_predict))\n",
    "print(\"Model recall: \", metrics.recall_score(y_test, y_predict))\n",
    "print(\"Model f1-score: \", metrics.f1_score(y_test, y_predict))\n",
    "confusion_matrix = metrics.confusion_matrix(y_test, y_predict)\n",
    "mlflow.log_metric(\"accuracy\", metrics.accuracy_score(y_test, y_predict))\n",
    "mlflow.log_metric(\"precision\", metrics.precision_score(y_test, y_predict))\n",
    "mlflow.log_metric(\"recall\", metrics.recall_score(y_test, y_predict))\n",
    "mlflow.log_metric(\"f1-score\", metrics.f1_score(y_test, y_predict))\n",
    "# Visualize the confusion matrix\n",
    "cm_display = metrics.ConfusionMatrixDisplay(confusion_matrix = confusion_matrix, display_labels = [False, True])\n",
    "cm_display.plot()\n",
    "plt.show()"
   ]
  },
  {
   "cell_type": "code",
   "execution_count": 80,
   "id": "b6239638",
   "metadata": {},
   "outputs": [
    {
     "data": {
      "text/plain": [
       "<mlflow.models.model.ModelInfo at 0x17008474e50>"
      ]
     },
     "execution_count": 80,
     "metadata": {},
     "output_type": "execute_result"
    }
   ],
   "source": [
    "# Save the model\n",
    "run = mlflow.active_run()\n",
    "#print(\"Active run_id: {}\".format(run.info.run_id))\n",
    "path = os.path.join(os.getcwd(), \"..\", \"models\", \"text\", run.info.run_id)\n",
    "mlflow.sklearn.log_model(model, path)"
   ]
  },
  {
   "attachments": {},
   "cell_type": "markdown",
   "id": "c964fa5b",
   "metadata": {},
   "source": [
    "## Interpretability"
   ]
  },
  {
   "cell_type": "code",
   "execution_count": 81,
   "id": "88978d07",
   "metadata": {},
   "outputs": [
    {
     "data": {
      "text/plain": [
       "array([[ 0.72709629, -0.13138926, -0.00197357, ..., -0.01589681,\n",
       "         0.02604595,  0.01414781]])"
      ]
     },
     "execution_count": 81,
     "metadata": {},
     "output_type": "execute_result"
    }
   ],
   "source": [
    "model.coef_"
   ]
  },
  {
   "cell_type": "code",
   "execution_count": 82,
   "id": "3c676485",
   "metadata": {},
   "outputs": [],
   "source": [
    "# Assigning the feature names to an empty list\n",
    "feat_impts = [vectorizer.get_feature_names_out()]\n",
    "#For all the models save the feature importances in the estimators list would give the internal models used by the #multioutput regressor\n",
    "for clf in model.coef_:\n",
    "    #For each model in the estimators list, save the feature importances in the feat_impts list\n",
    "    feat_impts.append(clf)"
   ]
  },
  {
   "cell_type": "code",
   "execution_count": 83,
   "id": "b9c975a1",
   "metadata": {},
   "outputs": [],
   "source": [
    "#Saving the coefficients in a dataframe\n",
    "df_feats_impts = pd.DataFrame(np.transpose(np.array(feat_impts)), columns = [\"word\", \"distracted\"])"
   ]
  },
  {
   "cell_type": "code",
   "execution_count": 84,
   "id": "e155d3c3",
   "metadata": {},
   "outputs": [],
   "source": [
    "#Creating Individual Feature Importance table by sorting on specific distracted-type column and selecting top 20 words\n",
    "distracted_fi = df_feats_impts[[\"word\",\"distracted\"]].sort_values(by = \"distracted\", ascending = False).head(20)"
   ]
  },
  {
   "cell_type": "code",
   "execution_count": 85,
   "id": "3fbeadf5",
   "metadata": {},
   "outputs": [
    {
     "data": {
      "text/html": [
       "<div>\n",
       "<style scoped>\n",
       "    .dataframe tbody tr th:only-of-type {\n",
       "        vertical-align: middle;\n",
       "    }\n",
       "\n",
       "    .dataframe tbody tr th {\n",
       "        vertical-align: top;\n",
       "    }\n",
       "\n",
       "    .dataframe thead th {\n",
       "        text-align: right;\n",
       "    }\n",
       "</style>\n",
       "<table border=\"1\" class=\"dataframe\">\n",
       "  <thead>\n",
       "    <tr style=\"text-align: right;\">\n",
       "      <th></th>\n",
       "      <th>word</th>\n",
       "      <th>distracted</th>\n",
       "    </tr>\n",
       "  </thead>\n",
       "  <tbody>\n",
       "    <tr>\n",
       "      <th>62243</th>\n",
       "      <td>more</td>\n",
       "      <td>4.46529</td>\n",
       "    </tr>\n",
       "    <tr>\n",
       "      <th>38096</th>\n",
       "      <td>game</td>\n",
       "      <td>4.256554</td>\n",
       "    </tr>\n",
       "    <tr>\n",
       "      <th>49698</th>\n",
       "      <td>instagram</td>\n",
       "      <td>3.812916</td>\n",
       "    </tr>\n",
       "    <tr>\n",
       "      <th>99476</th>\n",
       "      <td>trending</td>\n",
       "      <td>3.777376</td>\n",
       "    </tr>\n",
       "    <tr>\n",
       "      <th>10223</th>\n",
       "      <td>best</td>\n",
       "      <td>3.76424</td>\n",
       "    </tr>\n",
       "    <tr>\n",
       "      <th>106633</th>\n",
       "      <td>washington</td>\n",
       "      <td>3.409322</td>\n",
       "    </tr>\n",
       "    <tr>\n",
       "      <th>100402</th>\n",
       "      <td>twitter</td>\n",
       "      <td>3.388142</td>\n",
       "    </tr>\n",
       "    <tr>\n",
       "      <th>74435</th>\n",
       "      <td>play</td>\n",
       "      <td>3.238547</td>\n",
       "    </tr>\n",
       "    <tr>\n",
       "      <th>100999</th>\n",
       "      <td>ues</td>\n",
       "      <td>3.205036</td>\n",
       "    </tr>\n",
       "    <tr>\n",
       "      <th>87862</th>\n",
       "      <td>shop</td>\n",
       "      <td>3.041774</td>\n",
       "    </tr>\n",
       "    <tr>\n",
       "      <th>80241</th>\n",
       "      <td>reddit</td>\n",
       "      <td>3.024322</td>\n",
       "    </tr>\n",
       "    <tr>\n",
       "      <th>100327</th>\n",
       "      <td>tweets</td>\n",
       "      <td>3.016862</td>\n",
       "    </tr>\n",
       "    <tr>\n",
       "      <th>100369</th>\n",
       "      <td>twitch</td>\n",
       "      <td>2.995584</td>\n",
       "    </tr>\n",
       "    <tr>\n",
       "      <th>41608</th>\n",
       "      <td>gues</td>\n",
       "      <td>2.800896</td>\n",
       "    </tr>\n",
       "    <tr>\n",
       "      <th>82464</th>\n",
       "      <td>richmond</td>\n",
       "      <td>2.716442</td>\n",
       "    </tr>\n",
       "    <tr>\n",
       "      <th>106701</th>\n",
       "      <td>watch</td>\n",
       "      <td>2.677958</td>\n",
       "    </tr>\n",
       "    <tr>\n",
       "      <th>58271</th>\n",
       "      <td>made</td>\n",
       "      <td>2.584134</td>\n",
       "    </tr>\n",
       "    <tr>\n",
       "      <th>60188</th>\n",
       "      <td>mens</td>\n",
       "      <td>2.579765</td>\n",
       "    </tr>\n",
       "    <tr>\n",
       "      <th>34024</th>\n",
       "      <td>facebook</td>\n",
       "      <td>2.567587</td>\n",
       "    </tr>\n",
       "    <tr>\n",
       "      <th>17358</th>\n",
       "      <td>climbing</td>\n",
       "      <td>2.415965</td>\n",
       "    </tr>\n",
       "  </tbody>\n",
       "</table>\n",
       "</div>"
      ],
      "text/plain": [
       "              word distracted\n",
       "62243         more    4.46529\n",
       "38096         game   4.256554\n",
       "49698    instagram   3.812916\n",
       "99476     trending   3.777376\n",
       "10223         best    3.76424\n",
       "106633  washington   3.409322\n",
       "100402     twitter   3.388142\n",
       "74435         play   3.238547\n",
       "100999         ues   3.205036\n",
       "87862         shop   3.041774\n",
       "80241       reddit   3.024322\n",
       "100327      tweets   3.016862\n",
       "100369      twitch   2.995584\n",
       "41608         gues   2.800896\n",
       "82464     richmond   2.716442\n",
       "106701       watch   2.677958\n",
       "58271         made   2.584134\n",
       "60188         mens   2.579765\n",
       "34024     facebook   2.567587\n",
       "17358     climbing   2.415965"
      ]
     },
     "execution_count": 85,
     "metadata": {},
     "output_type": "execute_result"
    }
   ],
   "source": [
    "distracted_fi"
   ]
  },
  {
   "cell_type": "code",
   "execution_count": 86,
   "id": "bdb4044e",
   "metadata": {},
   "outputs": [],
   "source": [
    "#Creating Individual Feature Importance table by sorting on specific focused-type column and selecting top 20 words\n",
    "focused_fi = df_feats_impts[[\"word\",\"distracted\"]].sort_values(by = \"distracted\").head(20)\n",
    "# Rename the column\n",
    "focused_fi = focused_fi.rename(columns={\"distracted\": \"focused\"})"
   ]
  },
  {
   "cell_type": "code",
   "execution_count": 87,
   "id": "02a08a6e",
   "metadata": {},
   "outputs": [
    {
     "data": {
      "text/html": [
       "<div>\n",
       "<style scoped>\n",
       "    .dataframe tbody tr th:only-of-type {\n",
       "        vertical-align: middle;\n",
       "    }\n",
       "\n",
       "    .dataframe tbody tr th {\n",
       "        vertical-align: top;\n",
       "    }\n",
       "\n",
       "    .dataframe thead th {\n",
       "        text-align: right;\n",
       "    }\n",
       "</style>\n",
       "<table border=\"1\" class=\"dataframe\">\n",
       "  <thead>\n",
       "    <tr style=\"text-align: right;\">\n",
       "      <th></th>\n",
       "      <th>word</th>\n",
       "      <th>focused</th>\n",
       "    </tr>\n",
       "  </thead>\n",
       "  <tbody>\n",
       "    <tr>\n",
       "      <th>35463</th>\n",
       "      <td>file</td>\n",
       "      <td>-3.918294</td>\n",
       "    </tr>\n",
       "    <tr>\n",
       "      <th>48514</th>\n",
       "      <td>inbox</td>\n",
       "      <td>-3.755862</td>\n",
       "    </tr>\n",
       "    <tr>\n",
       "      <th>22706</th>\n",
       "      <td>dashboard</td>\n",
       "      <td>-3.748407</td>\n",
       "    </tr>\n",
       "    <tr>\n",
       "      <th>55474</th>\n",
       "      <td>lecture</td>\n",
       "      <td>-3.569366</td>\n",
       "    </tr>\n",
       "    <tr>\n",
       "      <th>111690</th>\n",
       "      <td>zoom</td>\n",
       "      <td>-3.379583</td>\n",
       "    </tr>\n",
       "    <tr>\n",
       "      <th>78526</th>\n",
       "      <td>question</td>\n",
       "      <td>-3.276079</td>\n",
       "    </tr>\n",
       "    <tr>\n",
       "      <th>14227</th>\n",
       "      <td>canvas</td>\n",
       "      <td>-3.241027</td>\n",
       "    </tr>\n",
       "    <tr>\n",
       "      <th>107577</th>\n",
       "      <td>what</td>\n",
       "      <td>-3.176026</td>\n",
       "    </tr>\n",
       "    <tr>\n",
       "      <th>20745</th>\n",
       "      <td>course</td>\n",
       "      <td>-3.163934</td>\n",
       "    </tr>\n",
       "    <tr>\n",
       "      <th>43052</th>\n",
       "      <td>help</td>\n",
       "      <td>-3.136831</td>\n",
       "    </tr>\n",
       "    <tr>\n",
       "      <th>13759</th>\n",
       "      <td>calendar</td>\n",
       "      <td>-3.044861</td>\n",
       "    </tr>\n",
       "    <tr>\n",
       "      <th>103989</th>\n",
       "      <td>vcu</td>\n",
       "      <td>-2.916519</td>\n",
       "    </tr>\n",
       "    <tr>\n",
       "      <th>96622</th>\n",
       "      <td>text</td>\n",
       "      <td>-2.907186</td>\n",
       "    </tr>\n",
       "    <tr>\n",
       "      <th>27259</th>\n",
       "      <td>drive</td>\n",
       "      <td>-2.811691</td>\n",
       "    </tr>\n",
       "    <tr>\n",
       "      <th>98633</th>\n",
       "      <td>tools</td>\n",
       "      <td>-2.783703</td>\n",
       "    </tr>\n",
       "    <tr>\n",
       "      <th>28724</th>\n",
       "      <td>edit</td>\n",
       "      <td>-2.745527</td>\n",
       "    </tr>\n",
       "    <tr>\n",
       "      <th>49612</th>\n",
       "      <td>insert</td>\n",
       "      <td>-2.726491</td>\n",
       "    </tr>\n",
       "    <tr>\n",
       "      <th>20758</th>\n",
       "      <td>courses</td>\n",
       "      <td>-2.696125</td>\n",
       "    </tr>\n",
       "    <tr>\n",
       "      <th>35488</th>\n",
       "      <td>files</td>\n",
       "      <td>-2.692508</td>\n",
       "    </tr>\n",
       "    <tr>\n",
       "      <th>76461</th>\n",
       "      <td>printing</td>\n",
       "      <td>-2.649457</td>\n",
       "    </tr>\n",
       "  </tbody>\n",
       "</table>\n",
       "</div>"
      ],
      "text/plain": [
       "             word   focused\n",
       "35463        file -3.918294\n",
       "48514       inbox -3.755862\n",
       "22706   dashboard -3.748407\n",
       "55474     lecture -3.569366\n",
       "111690       zoom -3.379583\n",
       "78526    question -3.276079\n",
       "14227      canvas -3.241027\n",
       "107577       what -3.176026\n",
       "20745      course -3.163934\n",
       "43052        help -3.136831\n",
       "13759    calendar -3.044861\n",
       "103989        vcu -2.916519\n",
       "96622        text -2.907186\n",
       "27259       drive -2.811691\n",
       "98633       tools -2.783703\n",
       "28724        edit -2.745527\n",
       "49612      insert -2.726491\n",
       "20758     courses -2.696125\n",
       "35488       files -2.692508\n",
       "76461    printing -2.649457"
      ]
     },
     "execution_count": 87,
     "metadata": {},
     "output_type": "execute_result"
    }
   ],
   "source": [
    "focused_fi"
   ]
  },
  {
   "cell_type": "code",
   "execution_count": 88,
   "id": "17662579",
   "metadata": {},
   "outputs": [],
   "source": [
    "# inverse sort the distracted_fi dataframe\n",
    "distracted_fi = distracted_fi[::-1]"
   ]
  },
  {
   "cell_type": "code",
   "execution_count": 89,
   "id": "1a019806",
   "metadata": {},
   "outputs": [
    {
     "data": {
      "application/vnd.plotly.v1+json": {
       "config": {
        "plotlyServerURL": "https://plot.ly"
       },
       "data": [
        {
         "name": "Focused",
         "type": "bar",
         "x": [
          "file",
          "inbox",
          "dashboard",
          "lecture",
          "zoom",
          "question",
          "canvas",
          "what",
          "course",
          "help",
          "calendar",
          "vcu",
          "text",
          "drive",
          "tools",
          "edit",
          "insert",
          "courses",
          "files",
          "printing"
         ],
         "y": [
          -3.91829414643824,
          -3.7558624717151337,
          -3.7484070047552973,
          -3.5693658462773796,
          -3.3795834555699376,
          -3.2760793707871714,
          -3.2410273307178192,
          -3.176025578529125,
          -3.163934134368148,
          -3.1368313462927007,
          -3.0448611406425594,
          -2.916519078713275,
          -2.9071857098866056,
          -2.811690797076366,
          -2.7837032229970795,
          -2.7455266731945684,
          -2.7264913651746943,
          -2.696124769889924,
          -2.692508397226021,
          -2.649456694408748
         ]
        },
        {
         "name": "Distracted",
         "type": "bar",
         "x": [
          "climbing",
          "facebook",
          "mens",
          "made",
          "watch",
          "richmond",
          "gues",
          "twitch",
          "tweets",
          "reddit",
          "shop",
          "ues",
          "play",
          "twitter",
          "washington",
          "best",
          "trending",
          "instagram",
          "game",
          "more"
         ],
         "y": [
          2.4159648693656313,
          2.567587291025852,
          2.579764520720525,
          2.5841342268319223,
          2.677958431692266,
          2.7164420349440372,
          2.8008955821064645,
          2.9955844173820045,
          3.016861602067448,
          3.024322041072988,
          3.041773885983618,
          3.2050361739322053,
          3.238547129774998,
          3.388142413316968,
          3.409321539686101,
          3.7642401903379734,
          3.7773759093770476,
          3.812915940348774,
          4.25655444308977,
          4.465290384185922
         ]
        }
       ],
       "layout": {
        "barmode": "group",
        "font": {
         "size": 15
        },
        "legend": {
         "font": {
          "size": 15
         }
        },
        "template": {
         "data": {
          "bar": [
           {
            "error_x": {
             "color": "#2a3f5f"
            },
            "error_y": {
             "color": "#2a3f5f"
            },
            "marker": {
             "line": {
              "color": "#E5ECF6",
              "width": 0.5
             },
             "pattern": {
              "fillmode": "overlay",
              "size": 10,
              "solidity": 0.2
             }
            },
            "type": "bar"
           }
          ],
          "barpolar": [
           {
            "marker": {
             "line": {
              "color": "#E5ECF6",
              "width": 0.5
             },
             "pattern": {
              "fillmode": "overlay",
              "size": 10,
              "solidity": 0.2
             }
            },
            "type": "barpolar"
           }
          ],
          "carpet": [
           {
            "aaxis": {
             "endlinecolor": "#2a3f5f",
             "gridcolor": "white",
             "linecolor": "white",
             "minorgridcolor": "white",
             "startlinecolor": "#2a3f5f"
            },
            "baxis": {
             "endlinecolor": "#2a3f5f",
             "gridcolor": "white",
             "linecolor": "white",
             "minorgridcolor": "white",
             "startlinecolor": "#2a3f5f"
            },
            "type": "carpet"
           }
          ],
          "choropleth": [
           {
            "colorbar": {
             "outlinewidth": 0,
             "ticks": ""
            },
            "type": "choropleth"
           }
          ],
          "contour": [
           {
            "colorbar": {
             "outlinewidth": 0,
             "ticks": ""
            },
            "colorscale": [
             [
              0,
              "#0d0887"
             ],
             [
              0.1111111111111111,
              "#46039f"
             ],
             [
              0.2222222222222222,
              "#7201a8"
             ],
             [
              0.3333333333333333,
              "#9c179e"
             ],
             [
              0.4444444444444444,
              "#bd3786"
             ],
             [
              0.5555555555555556,
              "#d8576b"
             ],
             [
              0.6666666666666666,
              "#ed7953"
             ],
             [
              0.7777777777777778,
              "#fb9f3a"
             ],
             [
              0.8888888888888888,
              "#fdca26"
             ],
             [
              1,
              "#f0f921"
             ]
            ],
            "type": "contour"
           }
          ],
          "contourcarpet": [
           {
            "colorbar": {
             "outlinewidth": 0,
             "ticks": ""
            },
            "type": "contourcarpet"
           }
          ],
          "heatmap": [
           {
            "colorbar": {
             "outlinewidth": 0,
             "ticks": ""
            },
            "colorscale": [
             [
              0,
              "#0d0887"
             ],
             [
              0.1111111111111111,
              "#46039f"
             ],
             [
              0.2222222222222222,
              "#7201a8"
             ],
             [
              0.3333333333333333,
              "#9c179e"
             ],
             [
              0.4444444444444444,
              "#bd3786"
             ],
             [
              0.5555555555555556,
              "#d8576b"
             ],
             [
              0.6666666666666666,
              "#ed7953"
             ],
             [
              0.7777777777777778,
              "#fb9f3a"
             ],
             [
              0.8888888888888888,
              "#fdca26"
             ],
             [
              1,
              "#f0f921"
             ]
            ],
            "type": "heatmap"
           }
          ],
          "heatmapgl": [
           {
            "colorbar": {
             "outlinewidth": 0,
             "ticks": ""
            },
            "colorscale": [
             [
              0,
              "#0d0887"
             ],
             [
              0.1111111111111111,
              "#46039f"
             ],
             [
              0.2222222222222222,
              "#7201a8"
             ],
             [
              0.3333333333333333,
              "#9c179e"
             ],
             [
              0.4444444444444444,
              "#bd3786"
             ],
             [
              0.5555555555555556,
              "#d8576b"
             ],
             [
              0.6666666666666666,
              "#ed7953"
             ],
             [
              0.7777777777777778,
              "#fb9f3a"
             ],
             [
              0.8888888888888888,
              "#fdca26"
             ],
             [
              1,
              "#f0f921"
             ]
            ],
            "type": "heatmapgl"
           }
          ],
          "histogram": [
           {
            "marker": {
             "pattern": {
              "fillmode": "overlay",
              "size": 10,
              "solidity": 0.2
             }
            },
            "type": "histogram"
           }
          ],
          "histogram2d": [
           {
            "colorbar": {
             "outlinewidth": 0,
             "ticks": ""
            },
            "colorscale": [
             [
              0,
              "#0d0887"
             ],
             [
              0.1111111111111111,
              "#46039f"
             ],
             [
              0.2222222222222222,
              "#7201a8"
             ],
             [
              0.3333333333333333,
              "#9c179e"
             ],
             [
              0.4444444444444444,
              "#bd3786"
             ],
             [
              0.5555555555555556,
              "#d8576b"
             ],
             [
              0.6666666666666666,
              "#ed7953"
             ],
             [
              0.7777777777777778,
              "#fb9f3a"
             ],
             [
              0.8888888888888888,
              "#fdca26"
             ],
             [
              1,
              "#f0f921"
             ]
            ],
            "type": "histogram2d"
           }
          ],
          "histogram2dcontour": [
           {
            "colorbar": {
             "outlinewidth": 0,
             "ticks": ""
            },
            "colorscale": [
             [
              0,
              "#0d0887"
             ],
             [
              0.1111111111111111,
              "#46039f"
             ],
             [
              0.2222222222222222,
              "#7201a8"
             ],
             [
              0.3333333333333333,
              "#9c179e"
             ],
             [
              0.4444444444444444,
              "#bd3786"
             ],
             [
              0.5555555555555556,
              "#d8576b"
             ],
             [
              0.6666666666666666,
              "#ed7953"
             ],
             [
              0.7777777777777778,
              "#fb9f3a"
             ],
             [
              0.8888888888888888,
              "#fdca26"
             ],
             [
              1,
              "#f0f921"
             ]
            ],
            "type": "histogram2dcontour"
           }
          ],
          "mesh3d": [
           {
            "colorbar": {
             "outlinewidth": 0,
             "ticks": ""
            },
            "type": "mesh3d"
           }
          ],
          "parcoords": [
           {
            "line": {
             "colorbar": {
              "outlinewidth": 0,
              "ticks": ""
             }
            },
            "type": "parcoords"
           }
          ],
          "pie": [
           {
            "automargin": true,
            "type": "pie"
           }
          ],
          "scatter": [
           {
            "fillpattern": {
             "fillmode": "overlay",
             "size": 10,
             "solidity": 0.2
            },
            "type": "scatter"
           }
          ],
          "scatter3d": [
           {
            "line": {
             "colorbar": {
              "outlinewidth": 0,
              "ticks": ""
             }
            },
            "marker": {
             "colorbar": {
              "outlinewidth": 0,
              "ticks": ""
             }
            },
            "type": "scatter3d"
           }
          ],
          "scattercarpet": [
           {
            "marker": {
             "colorbar": {
              "outlinewidth": 0,
              "ticks": ""
             }
            },
            "type": "scattercarpet"
           }
          ],
          "scattergeo": [
           {
            "marker": {
             "colorbar": {
              "outlinewidth": 0,
              "ticks": ""
             }
            },
            "type": "scattergeo"
           }
          ],
          "scattergl": [
           {
            "marker": {
             "colorbar": {
              "outlinewidth": 0,
              "ticks": ""
             }
            },
            "type": "scattergl"
           }
          ],
          "scattermapbox": [
           {
            "marker": {
             "colorbar": {
              "outlinewidth": 0,
              "ticks": ""
             }
            },
            "type": "scattermapbox"
           }
          ],
          "scatterpolar": [
           {
            "marker": {
             "colorbar": {
              "outlinewidth": 0,
              "ticks": ""
             }
            },
            "type": "scatterpolar"
           }
          ],
          "scatterpolargl": [
           {
            "marker": {
             "colorbar": {
              "outlinewidth": 0,
              "ticks": ""
             }
            },
            "type": "scatterpolargl"
           }
          ],
          "scatterternary": [
           {
            "marker": {
             "colorbar": {
              "outlinewidth": 0,
              "ticks": ""
             }
            },
            "type": "scatterternary"
           }
          ],
          "surface": [
           {
            "colorbar": {
             "outlinewidth": 0,
             "ticks": ""
            },
            "colorscale": [
             [
              0,
              "#0d0887"
             ],
             [
              0.1111111111111111,
              "#46039f"
             ],
             [
              0.2222222222222222,
              "#7201a8"
             ],
             [
              0.3333333333333333,
              "#9c179e"
             ],
             [
              0.4444444444444444,
              "#bd3786"
             ],
             [
              0.5555555555555556,
              "#d8576b"
             ],
             [
              0.6666666666666666,
              "#ed7953"
             ],
             [
              0.7777777777777778,
              "#fb9f3a"
             ],
             [
              0.8888888888888888,
              "#fdca26"
             ],
             [
              1,
              "#f0f921"
             ]
            ],
            "type": "surface"
           }
          ],
          "table": [
           {
            "cells": {
             "fill": {
              "color": "#EBF0F8"
             },
             "line": {
              "color": "white"
             }
            },
            "header": {
             "fill": {
              "color": "#C8D4E3"
             },
             "line": {
              "color": "white"
             }
            },
            "type": "table"
           }
          ]
         },
         "layout": {
          "annotationdefaults": {
           "arrowcolor": "#2a3f5f",
           "arrowhead": 0,
           "arrowwidth": 1
          },
          "autotypenumbers": "strict",
          "coloraxis": {
           "colorbar": {
            "outlinewidth": 0,
            "ticks": ""
           }
          },
          "colorscale": {
           "diverging": [
            [
             0,
             "#8e0152"
            ],
            [
             0.1,
             "#c51b7d"
            ],
            [
             0.2,
             "#de77ae"
            ],
            [
             0.3,
             "#f1b6da"
            ],
            [
             0.4,
             "#fde0ef"
            ],
            [
             0.5,
             "#f7f7f7"
            ],
            [
             0.6,
             "#e6f5d0"
            ],
            [
             0.7,
             "#b8e186"
            ],
            [
             0.8,
             "#7fbc41"
            ],
            [
             0.9,
             "#4d9221"
            ],
            [
             1,
             "#276419"
            ]
           ],
           "sequential": [
            [
             0,
             "#0d0887"
            ],
            [
             0.1111111111111111,
             "#46039f"
            ],
            [
             0.2222222222222222,
             "#7201a8"
            ],
            [
             0.3333333333333333,
             "#9c179e"
            ],
            [
             0.4444444444444444,
             "#bd3786"
            ],
            [
             0.5555555555555556,
             "#d8576b"
            ],
            [
             0.6666666666666666,
             "#ed7953"
            ],
            [
             0.7777777777777778,
             "#fb9f3a"
            ],
            [
             0.8888888888888888,
             "#fdca26"
            ],
            [
             1,
             "#f0f921"
            ]
           ],
           "sequentialminus": [
            [
             0,
             "#0d0887"
            ],
            [
             0.1111111111111111,
             "#46039f"
            ],
            [
             0.2222222222222222,
             "#7201a8"
            ],
            [
             0.3333333333333333,
             "#9c179e"
            ],
            [
             0.4444444444444444,
             "#bd3786"
            ],
            [
             0.5555555555555556,
             "#d8576b"
            ],
            [
             0.6666666666666666,
             "#ed7953"
            ],
            [
             0.7777777777777778,
             "#fb9f3a"
            ],
            [
             0.8888888888888888,
             "#fdca26"
            ],
            [
             1,
             "#f0f921"
            ]
           ]
          },
          "colorway": [
           "#636efa",
           "#EF553B",
           "#00cc96",
           "#ab63fa",
           "#FFA15A",
           "#19d3f3",
           "#FF6692",
           "#B6E880",
           "#FF97FF",
           "#FECB52"
          ],
          "font": {
           "color": "#2a3f5f"
          },
          "geo": {
           "bgcolor": "white",
           "lakecolor": "white",
           "landcolor": "#E5ECF6",
           "showlakes": true,
           "showland": true,
           "subunitcolor": "white"
          },
          "hoverlabel": {
           "align": "left"
          },
          "hovermode": "closest",
          "mapbox": {
           "style": "light"
          },
          "paper_bgcolor": "white",
          "plot_bgcolor": "#E5ECF6",
          "polar": {
           "angularaxis": {
            "gridcolor": "white",
            "linecolor": "white",
            "ticks": ""
           },
           "bgcolor": "#E5ECF6",
           "radialaxis": {
            "gridcolor": "white",
            "linecolor": "white",
            "ticks": ""
           }
          },
          "scene": {
           "xaxis": {
            "backgroundcolor": "#E5ECF6",
            "gridcolor": "white",
            "gridwidth": 2,
            "linecolor": "white",
            "showbackground": true,
            "ticks": "",
            "zerolinecolor": "white"
           },
           "yaxis": {
            "backgroundcolor": "#E5ECF6",
            "gridcolor": "white",
            "gridwidth": 2,
            "linecolor": "white",
            "showbackground": true,
            "ticks": "",
            "zerolinecolor": "white"
           },
           "zaxis": {
            "backgroundcolor": "#E5ECF6",
            "gridcolor": "white",
            "gridwidth": 2,
            "linecolor": "white",
            "showbackground": true,
            "ticks": "",
            "zerolinecolor": "white"
           }
          },
          "shapedefaults": {
           "line": {
            "color": "#2a3f5f"
           }
          },
          "ternary": {
           "aaxis": {
            "gridcolor": "white",
            "linecolor": "white",
            "ticks": ""
           },
           "baxis": {
            "gridcolor": "white",
            "linecolor": "white",
            "ticks": ""
           },
           "bgcolor": "#E5ECF6",
           "caxis": {
            "gridcolor": "white",
            "linecolor": "white",
            "ticks": ""
           }
          },
          "title": {
           "x": 0.05
          },
          "xaxis": {
           "automargin": true,
           "gridcolor": "white",
           "linecolor": "white",
           "ticks": "",
           "title": {
            "standoff": 15
           },
           "zerolinecolor": "white",
           "zerolinewidth": 2
          },
          "yaxis": {
           "automargin": true,
           "gridcolor": "white",
           "linecolor": "white",
           "ticks": "",
           "title": {
            "standoff": 15
           },
           "zerolinecolor": "white",
           "zerolinewidth": 2
          }
         }
        },
        "xaxis": {
         "tickangle": -45
        }
       }
      }
     },
     "metadata": {},
     "output_type": "display_data"
    }
   ],
   "source": [
    "# plot the feature importance (top 20 words) for each class in a bar chart (plotly)\n",
    "import plotly.graph_objects as go\n",
    "\n",
    "fig = go.Figure(data=[\n",
    "    go.Bar(name='Focused', x=focused_fi[\"word\"], y=focused_fi[\"focused\"]),\n",
    "    go.Bar(name='Distracted', x=distracted_fi[\"word\"], y=distracted_fi[\"distracted\"]),\n",
    "])\n",
    "# tilt the x-axis labels\n",
    "fig.update_layout(xaxis_tickangle=-45)\n",
    "# Font size\n",
    "fig.update_layout(font=dict(size=15))\n",
    "# legend font size\n",
    "fig.update_layout(legend=dict(\n",
    "    font=dict(\n",
    "        size=15\n",
    "    )\n",
    "))\n",
    "# Change the bar mode\n",
    "fig.update_layout(barmode='group')\n",
    "fig.show()\n"
   ]
  },
  {
   "cell_type": "code",
   "execution_count": 90,
   "id": "eb5fe0f8",
   "metadata": {},
   "outputs": [
    {
     "data": {
      "text/plain": [
       "['file',\n",
       " 'inbox',\n",
       " 'dashboard',\n",
       " 'lecture',\n",
       " 'zoom',\n",
       " 'question',\n",
       " 'canvas',\n",
       " 'what',\n",
       " 'course',\n",
       " 'help',\n",
       " 'calendar',\n",
       " 'vcu',\n",
       " 'text',\n",
       " 'drive',\n",
       " 'tools',\n",
       " 'edit',\n",
       " 'insert',\n",
       " 'courses',\n",
       " 'files',\n",
       " 'printing']"
      ]
     },
     "execution_count": 90,
     "metadata": {},
     "output_type": "execute_result"
    }
   ],
   "source": [
    "# Log the first 20 distracted words\n",
    "mlflow.log_param(\"distracted_words\", distracted_fi.word.to_list())\n",
    "# Log the first 20 focused words\n",
    "mlflow.log_param(\"focused_words\", focused_fi.word.to_list())"
   ]
  },
  {
   "cell_type": "code",
   "execution_count": 91,
   "id": "1f593166",
   "metadata": {},
   "outputs": [
    {
     "name": "stderr",
     "output_type": "stream",
     "text": [
      "2023/06/15 21:08:15 WARNING mlflow.sklearn: Model was missing function: predict. Not logging python_function flavor!\n"
     ]
    },
    {
     "data": {
      "text/plain": [
       "<mlflow.models.model.ModelInfo at 0x1700994fdc0>"
      ]
     },
     "execution_count": 91,
     "metadata": {},
     "output_type": "execute_result"
    }
   ],
   "source": [
    "# Log the vectorizer\n",
    "path = os.path.join(os.getcwd(), \"..\", \"models\", \"text\", run.info.run_id, \"vectorizer\")\n",
    "mlflow.sklearn.log_model(vectorizer, path)"
   ]
  },
  {
   "cell_type": "code",
   "execution_count": 92,
   "id": "b165e918",
   "metadata": {},
   "outputs": [],
   "source": [
    "mlflow.end_run()"
   ]
  }
 ],
 "metadata": {
  "kernelspec": {
   "display_name": "env_mladhd",
   "language": "python",
   "name": "python3"
  },
  "language_info": {
   "codemirror_mode": {
    "name": "ipython",
    "version": 3
   },
   "file_extension": ".py",
   "mimetype": "text/x-python",
   "name": "python",
   "nbconvert_exporter": "python",
   "pygments_lexer": "ipython3",
   "version": "3.10.10"
  }
 },
 "nbformat": 4,
 "nbformat_minor": 5
}
