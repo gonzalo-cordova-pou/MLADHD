{
 "cells": [
  {
   "cell_type": "markdown",
   "id": "b4d3e813",
   "metadata": {},
   "source": [
    "# BagOfWords approach for classification"
   ]
  },
  {
   "cell_type": "code",
   "execution_count": 40,
   "id": "b7c7ef7b",
   "metadata": {},
   "outputs": [],
   "source": [
    "import pandas as pd\n",
    "import numpy as np\n",
    "import matplotlib.pyplot as plt\n",
    "from sklearn.feature_extraction.text import CountVectorizer\n",
    "from sklearn.model_selection import train_test_split\n",
    "from sklearn.linear_model import LogisticRegression\n",
    "from sklearn import metrics\n",
    "from sklearn.feature_extraction.text import TfidfTransformer\n",
    "from sklearn.naive_bayes import MultinomialNB\n",
    "import string"
   ]
  },
  {
   "cell_type": "code",
   "execution_count": 21,
   "id": "e06ff3ad",
   "metadata": {},
   "outputs": [],
   "source": [
    "ENGLISH_STOP_WORDS = {'all', 'both', 'am', 'themselves', 'often', 'if', 'becoming', 'thence', 'while', 've', 'couldn', 'mostly', 'ma', 'more', 'de', 'thin', 'seems', 'do', 'sometime', 'across', 'nine', 'namely', 'hers', 'amoungst', 'needn', 'sixty', 'what', 'why', 'nevertheless', 'co', 'mustn', 'bottom', 'although', 'own', 'having', 'was', 'cant', 'from', 'll', 'etc', 'on', 'herself', 'had', 'beforehand', 'empty', 'they', 'less', 'seem', 'hasnt', 'he', 'serious', 'himself', 'whereafter', 'is', 'over', 'became', 'give', 'below', 'ain', 'yourselves', 'each', 'anyhow', 'one', 'moreover', 'where', 'might', 'already', 're', 'until', 'that', 'theirs', 'anywhere', 'other', 'through', 'should', 'at', 'fifteen', 'sometimes', 'bill', 'upon', 'describe', 'perhaps', 'after', 'there', 'not', 'whereas', 'around', 'this', 'eg', 'call', 'ours', 'can', 'who', 'besides', 'same', 'to', 'seemed', 'your', 'thick', 'whereupon', 'anyone', 'when', 'wasn', 'whoever', 'haven', 'be', 'either', 'rather', 'inc', 'has', 'ie', 'twenty', 'amongst', 'about', 'none', 'however', 'the', 'system', 'been', 'still', 'otherwise', 'two', 'whenever', 'their', 'because', 'but', 'y', 'for', 'former', 'which', 'due', 'i', 'does', 'onto', 'him', 'five', 'doesn', 'nowhere', 'of', 'those', 'behind', 'hereupon', 'latter', 'too', 'move', 'us', 'them', 'just', 'as', 'everything', 'any', 'everywhere', 'it', 'get', 'hadn', 'much', 'find', 'something', 'won', 'always', 'fire', 'couldnt', 'ourselves', 'yet', 'almost', 'now', 'twelve', 'mightn', 'o', 'under', 'some', 'no', 'eight', 'somewhere', 'together', 'anything', 'within', 'don', 'beside', 'most', 'mill', 'nothing', 'sincere', 'per', 'many', 'nor', 'thru', 'into', 'beyond', 'have', 'than', 'weren', 'therein', 'ten', 'its', 'take', 'towards', 'very', 'with', 'm', 'cry', 'also', 'were', 'since', 'ltd', 'whose', 'several', 'between', 'how', 'become', 'itself', 'here', 'formerly', 'in', 'back', 'becomes', 'thereupon', 'else', 'didn', 'third', 'without', 'name', 'whence', 'among', 'ever', 'first', 'keep', 'made', 'you', 'least', 'amount', 'an', 'except', 'whole', 'up', 'next', 'fify', 'someone', 'aren', 'interest', 'others', 'part', 'noone', 'throughout', 'found', 'thereafter', 'thus', 'must', 'yours', 'only', 'by', 'wherever', 'during', 'her', 'could', 'cannot', 'full', 'd', 'hundred', 'myself', 'herein', 'seeming', 'or', 'isn', 'elsewhere', 'side', 'well', 'then', 'done', 'hereby', 'may', 'off', 'go', 'being', 'once', 'put', 'indeed', 'enough', 'con', 'please', 'eleven', 'few', 'whereby', 'my', 'whether', 'detail', 'meanwhile', 'our', 'so', 'another', 'such', 'see', 'down', 'shan', 'neither', 'hence', 'will', 'never', 'mine', 'wouldn', 'somehow', 'whither', 'every', 'even', 'a', 'along', 'front', 'hereafter', 'are', 'forty', 'nobody', 'before', 'therefore', 'we', 'fill', 'four', 'three', 'alone', 'hasn', 't', 'afterwards', 'yourself', 'would', 'shouldn', 'six', 'against', 'anyway', 'wherein', 'doing', 'last', 'again', 'me', 'his', 'and', 'whom', 'whatever', 'thereby', 'she', 'above', 'further', 'these', 'top', 'via', 'though', 'out', 'un', 's', 'show', 'toward', 'everyone', 'latterly', 'did'}"
   ]
  },
  {
   "cell_type": "code",
   "execution_count": 22,
   "id": "3998a3b4",
   "metadata": {},
   "outputs": [],
   "source": [
    "#Function for basic cleaning/preprocessing texts\n",
    "def clean(doc):\n",
    "    # Removal of punctuation marks (.,/\\][{} etc) and numbers\n",
    "    doc = \"\".join([char for char in doc if char not in string.punctuation and not char.isdigit()])\n",
    "    # Removal of stopwords\n",
    "    doc = \" \".join([token for token in doc.split() if token not in ENGLISH_STOP_WORDS])\n",
    "    return doc.lower()"
   ]
  },
  {
   "cell_type": "code",
   "execution_count": 23,
   "id": "992b77d3",
   "metadata": {},
   "outputs": [],
   "source": [
    "# MODELS for text classification\n",
    "\n",
    "models = {\n",
    "    \"Logistic Regression\": LogisticRegression(),\n",
    "    \"Multinomial Naive Bayes\": MultinomialNB(),\n",
    "}\n"
   ]
  },
  {
   "cell_type": "code",
   "execution_count": 24,
   "id": "4f050fef",
   "metadata": {},
   "outputs": [],
   "source": [
    "csvFile = \"D:\\\\Alerta Backup Data\\\\gonzalo_data\\\\datasets\\\\text\\\\text.xlsx\""
   ]
  },
  {
   "cell_type": "code",
   "execution_count": 25,
   "id": "1b84a730",
   "metadata": {},
   "outputs": [],
   "source": [
    "df = pd.read_excel(csvFile)"
   ]
  },
  {
   "cell_type": "code",
   "execution_count": 26,
   "id": "be7840da",
   "metadata": {},
   "outputs": [
    {
     "data": {
      "text/html": [
       "<div>\n",
       "<style scoped>\n",
       "    .dataframe tbody tr th:only-of-type {\n",
       "        vertical-align: middle;\n",
       "    }\n",
       "\n",
       "    .dataframe tbody tr th {\n",
       "        vertical-align: top;\n",
       "    }\n",
       "\n",
       "    .dataframe thead th {\n",
       "        text-align: right;\n",
       "    }\n",
       "</style>\n",
       "<table border=\"1\" class=\"dataframe\">\n",
       "  <thead>\n",
       "    <tr style=\"text-align: right;\">\n",
       "      <th></th>\n",
       "      <th>class</th>\n",
       "      <th>text</th>\n",
       "    </tr>\n",
       "  </thead>\n",
       "  <tbody>\n",
       "    <tr>\n",
       "      <th>0</th>\n",
       "      <td>0</td>\n",
       "      <td>© From your Google Drive Interview-Mode BK99 S...</td>\n",
       "    </tr>\n",
       "    <tr>\n",
       "      <th>1</th>\n",
       "      <td>1</td>\n",
       "      <td>S Cc @ amazon.com/gp/bestsellers/?ref_=nav_cs_...</td>\n",
       "    </tr>\n",
       "    <tr>\n",
       "      <th>2</th>\n",
       "      <td>0</td>\n",
       "      <td>© From your Google Drive Interview-Mode BK99 S...</td>\n",
       "    </tr>\n",
       "    <tr>\n",
       "      <th>3</th>\n",
       "      <td>1</td>\n",
       "      <td>S Cc @ amazon.com/gp/bestsellers/?ref_=nav_cs_...</td>\n",
       "    </tr>\n",
       "    <tr>\n",
       "      <th>4</th>\n",
       "      <td>0</td>\n",
       "      <td>© From your Google Drive Interview-Mode BK99 S...</td>\n",
       "    </tr>\n",
       "    <tr>\n",
       "      <th>5</th>\n",
       "      <td>1</td>\n",
       "      <td>S Cc @ amazon.com/gp/bestsellers/?ref_=nav_cs_...</td>\n",
       "    </tr>\n",
       "  </tbody>\n",
       "</table>\n",
       "</div>"
      ],
      "text/plain": [
       "   class                                               text\n",
       "0      0  © From your Google Drive Interview-Mode BK99 S...\n",
       "1      1  S Cc @ amazon.com/gp/bestsellers/?ref_=nav_cs_...\n",
       "2      0  © From your Google Drive Interview-Mode BK99 S...\n",
       "3      1  S Cc @ amazon.com/gp/bestsellers/?ref_=nav_cs_...\n",
       "4      0  © From your Google Drive Interview-Mode BK99 S...\n",
       "5      1  S Cc @ amazon.com/gp/bestsellers/?ref_=nav_cs_..."
      ]
     },
     "execution_count": 26,
     "metadata": {},
     "output_type": "execute_result"
    }
   ],
   "source": [
    "df"
   ]
  },
  {
   "cell_type": "code",
   "execution_count": 27,
   "id": "fb2f8cc5",
   "metadata": {},
   "outputs": [],
   "source": [
    "vectorizer = CountVectorizer(preprocessor=clean)\n",
    "# Create sample set of documents\n",
    "docs = df.text.to_numpy()"
   ]
  },
  {
   "cell_type": "code",
   "execution_count": 28,
   "id": "76b775d3",
   "metadata": {},
   "outputs": [
    {
     "data": {
      "text/plain": [
       "(6, 302)"
      ]
     },
     "execution_count": 28,
     "metadata": {},
     "output_type": "execute_result"
    }
   ],
   "source": [
    "# Fit the bag-of-words model\n",
    "bag = vectorizer.fit_transform(docs)\n",
    "bag.shape"
   ]
  },
  {
   "cell_type": "code",
   "execution_count": 29,
   "id": "e8ba82d2",
   "metadata": {},
   "outputs": [
    {
     "name": "stdout",
     "output_type": "stream",
     "text": [
      "302\n"
     ]
    }
   ],
   "source": [
    "# Get unique words / tokens found in all the documents. The unique words / tokens represents\n",
    "# the features\n",
    "print(len(vectorizer.get_feature_names_out()))"
   ]
  },
  {
   "cell_type": "code",
   "execution_count": 30,
   "id": "3536ab29",
   "metadata": {},
   "outputs": [
    {
     "name": "stdout",
     "output_type": "stream",
     "text": [
      "{'from': 106, 'google': 114, 'drive': 82, 'interviewmode': 136, 'bk': 31, 'ses': 223, 'es': 91, 'session': 224, 'canvas': 42, 'sion': 239, 'oc': 176, 'go': 113, 'my': 167, 'web': 284, 'store': 251, 'add': 2, 'shortcut': 234, 'gm': 112, 'image': 133, 'account': 1, 'dashboard': 74, 'calendar': 39, 'oe': 177, 'commons': 63, 'help': 123, 'ie': 131, 'assignments': 19, 'virginiacommonwealthinstructure': 280, 'adob': 5, 'mec': 154, 'hal': 119, 'adi': 4, 'je': 137, 'alg': 7, 'ra': 209, 'eativ': 84, 'ort': 184, 'cmsc': 57, 'computational': 64, 'geometry': 109, 'due': 83, 'monday': 158, 'prr': 207, 'here': 125, 'slide': 242, 'lecture': 144, 'pre': 203, 'signme': 238, 'cor': 66, 'points': 200, 'none': 174, 'next': 173, 'cc': 47, 'amazoncomgpbestsellersrefnavcsbestsellers': 11, 'ooo': 181, 'guest': 118, 'hello': 122, 'sign': 237, 'returns': 214, 'amazon': 10, 'all': 8, 'search': 219, 'en': 89, 'orders': 182, 'nu': 175, 'select': 220, 'address': 3, 'lists': 146, 'cart': 45, 'onemedical': 180, 'clinic': 53, 'customerservice': 72, 'best': 30, 'sellers': 222, 'basic': 25, 'prime': 205, 'newreleases': 172, 'todaysdeals': 269, 'music': 165, 'books': 36, 'registry': 210, 'fashion': 95, 'amazonhome': 12, 'pharmacy': 195, 'giftcards': 111, 'toysgames': 271, 'sell': 221, 'coupons': 67, 'automotive': 21, 'shop': 232, 'womenowned': 293, 'businesses': 38, 'our': 185, 'popular': 202, 'products': 206, 'based': 24, 'sales': 217, 'updated': 278, 'frequentl': 104, 'any': 15, 'department': 76, 'devices': 77, 'accessories': 0, 'renewed': 212, 'appliances': 16, 'ey': 93, 'cy': 73, 'apps': 17, 'games': 108, 'arts': 18, 'crafts': 68, 'sewing': 226, 'audible': 20, 'originals': 183, 'baby': 22, 'beauty': 27, 'personal': 192, 'care': 44, 'camera': 41, 'photo': 197, 'cds': 48, 'vinyl': 279, 'cell': 49, 'phones': 196, 'climate': 52, 'pledge': 198, 'friendly': 105, 'clothing': 54, 'shoes': 231, 'jewelry': 138, 'collectible': 59, 'coins': 58, 'womens': 294, 'dresses': 81, 'more': 160, 'anrabess': 14, 'casual': 46, 'loose': 149, 'prettygarden': 204, 'wo': 290, 'sundress': 254, 'long': 148, 'dress': 80, 'sleeveless': 241, 'floral': 97, 'summer': 253, 'split': 248, 'maxi': 153, 'beach': 26, 'short': 233, 'sleeve': 240, 'belted': 28, 'pockets': 199, 'line': 145, 'bohemian': 35, 'pete': 194, 'te': 259, 'fy': 107, 'pook': 201, 'eye': 94, 'computers': 65, 'digital': 78, 'educational': 85, 'resources': 213, 'electronics': 88, 'entertainment': 90, 'collectibles': 60, 'gift': 110, 'cards': 43, 'grocery': 117, 'gourmet': 115, 'food': 101, 'handmade': 120, 'health': 121, 'household': 128, 'home': 127, 'kitchen': 142, 'industrial': 134, 'scientific': 218, 'kindle': 141, 'dining': 79, 'magazine': 151, 'subscriptions': 252, 'movies': 163, 'tv': 276, 'musical': 166, 'instruments': 135, 'tops': 270, 'tees': 261, 'essentials': 92, 'slim': 243, 'office': 178, 'fit': 96, 'tank': 258, 'pack': 187, 'classicfit': 51, 'shortslee': 235, 'baking': 23, 'pawnisaante': 191, 'sete': 225, 'teh': 262, 'tshirt': 273, 'multipacks': 164, 'pet': 193, 'supplies': 255, 'wek': 286, 'wei': 285, 'tk': 268, 'software': 246, 'sports': 249, 'outdoors': 186, 'crate': 69, 'callactihing': 40, 'httpswwwamazoncomstoresnode': 129, 'channeldiscovbarfieldlbrbrandsbrowsebinamazonbasicsre': 50, 'amazo': 9, 'com': 62, 'thi': 265, 'new': 171, 'releases': 211, 'blouses': 33, 'mor': 159, 'movers': 162, 'shakers': 227, 'tak': 257, 'keke': 140, 'tee': 260, 'ty': 277, 'slirr': 244, 'woke': 291, 'thet': 264, 'most': 161, 'wished': 289, 'for': 102, 'ideas': 130, 'wrap': 295, 'nec': 169, 'ruffle': 216, 'hem': 124, 'we': 283, 'yy': 300, 'shortsleeve': 236, 'crewnecl': 71, 'wi': 287, 'btfbm': 37, 'women': 292, 'crew': 70, 'ruched': 215, 'bodycon': 34, 'party': 189, 'club': 56, 'mini': 157, 'ke': 139, 'beopjesk': 29, 'st': 250, 'patricks': 190, 'day': 75, 'clover': 55, 'blessed': 32, 'lucky': 150, 'graphic': 116, 'im': 132, 'one': 179, 'mame': 152, 'ee': 86, 'ae': 6, 'fr': 103, 'amoretu': 13, 'tunic': 275, 'neck': 170, 'flow': 98, 'swing': 256, 'shift': 228, 'xieerduo': 296, 'shirt': 229, 'tshirts': 274, 'puff': 208, 'solid': 247, 'color': 61, 'xs': 298, 'xl': 297, 'zesica': 301, 'flutter': 100, 'smocked': 245, 'elastic': 87, 'waist': 282, 'tierec': 266, 'midi': 155, 'miholl': 156, 'lace': 143, 'shirts': 230, 'ne': 168, 'lonc': 147, 'high': 126, 'flowy': 99, 'tiered': 267, 'yoke': 299, 'tess': 263, 'vneck': 281, 'wie': 288, 'tr': 272, 'page': 188}\n"
     ]
    }
   ],
   "source": [
    "# Associate the indices with each unique word\n",
    "print(vectorizer.vocabulary_)"
   ]
  },
  {
   "cell_type": "code",
   "execution_count": 31,
   "id": "6bb4846b",
   "metadata": {},
   "outputs": [
    {
     "name": "stdout",
     "output_type": "stream",
     "text": [
      "[[0 1 1 ... 0 0 0]\n",
      " [3 1 0 ... 1 2 2]\n",
      " [0 1 1 ... 0 0 0]\n",
      " [3 1 0 ... 1 2 2]\n",
      " [0 1 1 ... 0 0 0]\n",
      " [3 1 0 ... 1 2 2]]\n"
     ]
    }
   ],
   "source": [
    "# Print the numerical feature vector\n",
    "print(bag.toarray())"
   ]
  },
  {
   "cell_type": "code",
   "execution_count": 32,
   "id": "b2d68291",
   "metadata": {},
   "outputs": [
    {
     "data": {
      "text/plain": [
       "(6, 302)"
      ]
     },
     "execution_count": 32,
     "metadata": {},
     "output_type": "execute_result"
    }
   ],
   "source": [
    "tfidf_transformer = TfidfTransformer()\n",
    "bag_tfidf = tfidf_transformer.fit_transform(bag)\n",
    "bag_tfidf.shape"
   ]
  },
  {
   "cell_type": "code",
   "execution_count": 33,
   "id": "4d9dbc07",
   "metadata": {},
   "outputs": [],
   "source": [
    "# Creating training data\n",
    "X = bag_tfidf.toarray()\n",
    "y = df[\"class\"].to_numpy()"
   ]
  },
  {
   "cell_type": "code",
   "execution_count": 34,
   "id": "12f9cc3b",
   "metadata": {},
   "outputs": [],
   "source": [
    "# Create training and test split\n",
    "X_train, X_test, y_train, y_test = train_test_split(X, y)"
   ]
  },
  {
   "cell_type": "markdown",
   "id": "c20accfe",
   "metadata": {},
   "source": [
    "## Choose a model"
   ]
  },
  {
   "cell_type": "code",
   "execution_count": 35,
   "id": "eeb9b858",
   "metadata": {},
   "outputs": [],
   "source": [
    "model_name = \"Logistic Regression\" # \"Logistic Regression\" or \"Multinomial Naive Bayes\"\n",
    "model = models[model_name]"
   ]
  },
  {
   "cell_type": "code",
   "execution_count": 36,
   "id": "b87da3fa",
   "metadata": {},
   "outputs": [
    {
     "data": {
      "text/html": [
       "<style>#sk-container-id-1 {color: black;background-color: white;}#sk-container-id-1 pre{padding: 0;}#sk-container-id-1 div.sk-toggleable {background-color: white;}#sk-container-id-1 label.sk-toggleable__label {cursor: pointer;display: block;width: 100%;margin-bottom: 0;padding: 0.3em;box-sizing: border-box;text-align: center;}#sk-container-id-1 label.sk-toggleable__label-arrow:before {content: \"▸\";float: left;margin-right: 0.25em;color: #696969;}#sk-container-id-1 label.sk-toggleable__label-arrow:hover:before {color: black;}#sk-container-id-1 div.sk-estimator:hover label.sk-toggleable__label-arrow:before {color: black;}#sk-container-id-1 div.sk-toggleable__content {max-height: 0;max-width: 0;overflow: hidden;text-align: left;background-color: #f0f8ff;}#sk-container-id-1 div.sk-toggleable__content pre {margin: 0.2em;color: black;border-radius: 0.25em;background-color: #f0f8ff;}#sk-container-id-1 input.sk-toggleable__control:checked~div.sk-toggleable__content {max-height: 200px;max-width: 100%;overflow: auto;}#sk-container-id-1 input.sk-toggleable__control:checked~label.sk-toggleable__label-arrow:before {content: \"▾\";}#sk-container-id-1 div.sk-estimator input.sk-toggleable__control:checked~label.sk-toggleable__label {background-color: #d4ebff;}#sk-container-id-1 div.sk-label input.sk-toggleable__control:checked~label.sk-toggleable__label {background-color: #d4ebff;}#sk-container-id-1 input.sk-hidden--visually {border: 0;clip: rect(1px 1px 1px 1px);clip: rect(1px, 1px, 1px, 1px);height: 1px;margin: -1px;overflow: hidden;padding: 0;position: absolute;width: 1px;}#sk-container-id-1 div.sk-estimator {font-family: monospace;background-color: #f0f8ff;border: 1px dotted black;border-radius: 0.25em;box-sizing: border-box;margin-bottom: 0.5em;}#sk-container-id-1 div.sk-estimator:hover {background-color: #d4ebff;}#sk-container-id-1 div.sk-parallel-item::after {content: \"\";width: 100%;border-bottom: 1px solid gray;flex-grow: 1;}#sk-container-id-1 div.sk-label:hover label.sk-toggleable__label {background-color: #d4ebff;}#sk-container-id-1 div.sk-serial::before {content: \"\";position: absolute;border-left: 1px solid gray;box-sizing: border-box;top: 0;bottom: 0;left: 50%;z-index: 0;}#sk-container-id-1 div.sk-serial {display: flex;flex-direction: column;align-items: center;background-color: white;padding-right: 0.2em;padding-left: 0.2em;position: relative;}#sk-container-id-1 div.sk-item {position: relative;z-index: 1;}#sk-container-id-1 div.sk-parallel {display: flex;align-items: stretch;justify-content: center;background-color: white;position: relative;}#sk-container-id-1 div.sk-item::before, #sk-container-id-1 div.sk-parallel-item::before {content: \"\";position: absolute;border-left: 1px solid gray;box-sizing: border-box;top: 0;bottom: 0;left: 50%;z-index: -1;}#sk-container-id-1 div.sk-parallel-item {display: flex;flex-direction: column;z-index: 1;position: relative;background-color: white;}#sk-container-id-1 div.sk-parallel-item:first-child::after {align-self: flex-end;width: 50%;}#sk-container-id-1 div.sk-parallel-item:last-child::after {align-self: flex-start;width: 50%;}#sk-container-id-1 div.sk-parallel-item:only-child::after {width: 0;}#sk-container-id-1 div.sk-dashed-wrapped {border: 1px dashed gray;margin: 0 0.4em 0.5em 0.4em;box-sizing: border-box;padding-bottom: 0.4em;background-color: white;}#sk-container-id-1 div.sk-label label {font-family: monospace;font-weight: bold;display: inline-block;line-height: 1.2em;}#sk-container-id-1 div.sk-label-container {text-align: center;}#sk-container-id-1 div.sk-container {/* jupyter's `normalize.less` sets `[hidden] { display: none; }` but bootstrap.min.css set `[hidden] { display: none !important; }` so we also need the `!important` here to be able to override the default hidden behavior on the sphinx rendered scikit-learn.org. See: https://github.com/scikit-learn/scikit-learn/issues/21755 */display: inline-block !important;position: relative;}#sk-container-id-1 div.sk-text-repr-fallback {display: none;}</style><div id=\"sk-container-id-1\" class=\"sk-top-container\"><div class=\"sk-text-repr-fallback\"><pre>LogisticRegression()</pre><b>In a Jupyter environment, please rerun this cell to show the HTML representation or trust the notebook. <br />On GitHub, the HTML representation is unable to render, please try loading this page with nbviewer.org.</b></div><div class=\"sk-container\" hidden><div class=\"sk-item\"><div class=\"sk-estimator sk-toggleable\"><input class=\"sk-toggleable__control sk-hidden--visually\" id=\"sk-estimator-id-1\" type=\"checkbox\" checked><label for=\"sk-estimator-id-1\" class=\"sk-toggleable__label sk-toggleable__label-arrow\">LogisticRegression</label><div class=\"sk-toggleable__content\"><pre>LogisticRegression()</pre></div></div></div></div></div>"
      ],
      "text/plain": [
       "LogisticRegression()"
      ]
     },
     "execution_count": 36,
     "metadata": {},
     "output_type": "execute_result"
    }
   ],
   "source": [
    "# Fit the model\n",
    "model.fit(X_train, y_train)"
   ]
  },
  {
   "cell_type": "code",
   "execution_count": 37,
   "id": "e3f67370",
   "metadata": {},
   "outputs": [],
   "source": [
    "# Create the predictions\n",
    "y_predict = model.predict(X_test)"
   ]
  },
  {
   "cell_type": "code",
   "execution_count": 41,
   "id": "3cb6fe5b",
   "metadata": {},
   "outputs": [
    {
     "name": "stdout",
     "output_type": "stream",
     "text": [
      "Model accuracy:  0.0\n",
      "Model precision:  0.0\n",
      "Model recall:  0.0\n",
      "Model f1-score:  0.0\n"
     ]
    },
    {
     "name": "stderr",
     "output_type": "stream",
     "text": [
      "c:\\Users\\Gonzalo\\anaconda3\\envs\\MLADHD_env\\lib\\site-packages\\sklearn\\metrics\\_classification.py:1344: UndefinedMetricWarning: Recall is ill-defined and being set to 0.0 due to no true samples. Use `zero_division` parameter to control this behavior.\n",
      "  _warn_prf(average, modifier, msg_start, len(result))\n"
     ]
    },
    {
     "data": {
      "image/png": "[encoded data removed]",
      "text/plain": [
       "<Figure size 640x480 with 2 Axes>"
      ]
     },
     "metadata": {},
     "output_type": "display_data"
    }
   ],
   "source": [
    "# Compute the accuracy, precision, recall and f1-score\n",
    "print(\"Model accuracy: \", metrics.accuracy_score(y_test, y_predict))\n",
    "print(\"Model precision: \", metrics.precision_score(y_test, y_predict))\n",
    "print(\"Model recall: \", metrics.recall_score(y_test, y_predict))\n",
    "print(\"Model f1-score: \", metrics.f1_score(y_test, y_predict))\n",
    "confusion_matrix = metrics.confusion_matrix(y_test, y_predict)\n",
    "# Visualize the confusion matrix\n",
    "cm_display = metrics.ConfusionMatrixDisplay(confusion_matrix = confusion_matrix, display_labels = [False, True])\n",
    "cm_display.plot()\n",
    "plt.show()"
   ]
  },
  {
   "cell_type": "markdown",
   "id": "c964fa5b",
   "metadata": {},
   "source": [
    "## Interpretability"
   ]
  },
  {
   "cell_type": "code",
   "execution_count": 42,
   "id": "3c676485",
   "metadata": {},
   "outputs": [],
   "source": [
    "# Assigning the feature names to an empty list\n",
    "feat_impts = [vectorizer.get_feature_names_out()]\n",
    "#For all the models save the feature importances in the estimators list would give the internal models used by the #multioutput regressor\n",
    "for clf in model.coef_:\n",
    "    #For each model in the estimators list, save the feature importances in the feat_impts list\n",
    "    feat_impts.append(clf)"
   ]
  },
  {
   "cell_type": "code",
   "execution_count": 43,
   "id": "b9c975a1",
   "metadata": {},
   "outputs": [],
   "source": [
    "#Saving the coefficients in a dataframe\n",
    "df_feats_impts = pd.DataFrame(np.transpose(np.array(feat_impts)), columns = [\"word\", \"distracted\"])"
   ]
  },
  {
   "cell_type": "code",
   "execution_count": 44,
   "id": "50d94d5d",
   "metadata": {},
   "outputs": [
    {
     "data": {
      "text/html": [
       "<div>\n",
       "<style scoped>\n",
       "    .dataframe tbody tr th:only-of-type {\n",
       "        vertical-align: middle;\n",
       "    }\n",
       "\n",
       "    .dataframe tbody tr th {\n",
       "        vertical-align: top;\n",
       "    }\n",
       "\n",
       "    .dataframe thead th {\n",
       "        text-align: right;\n",
       "    }\n",
       "</style>\n",
       "<table border=\"1\" class=\"dataframe\">\n",
       "  <thead>\n",
       "    <tr style=\"text-align: right;\">\n",
       "      <th></th>\n",
       "      <th>word</th>\n",
       "      <th>distracted</th>\n",
       "    </tr>\n",
       "  </thead>\n",
       "  <tbody>\n",
       "    <tr>\n",
       "      <th>0</th>\n",
       "      <td>accessories</td>\n",
       "      <td>0.045123</td>\n",
       "    </tr>\n",
       "    <tr>\n",
       "      <th>1</th>\n",
       "      <td>account</td>\n",
       "      <td>-0.035922</td>\n",
       "    </tr>\n",
       "    <tr>\n",
       "      <th>2</th>\n",
       "      <td>add</td>\n",
       "      <td>-0.071065</td>\n",
       "    </tr>\n",
       "    <tr>\n",
       "      <th>3</th>\n",
       "      <td>address</td>\n",
       "      <td>0.015041</td>\n",
       "    </tr>\n",
       "    <tr>\n",
       "      <th>4</th>\n",
       "      <td>adi</td>\n",
       "      <td>-0.071065</td>\n",
       "    </tr>\n",
       "    <tr>\n",
       "      <th>...</th>\n",
       "      <td>...</td>\n",
       "      <td>...</td>\n",
       "    </tr>\n",
       "    <tr>\n",
       "      <th>297</th>\n",
       "      <td>xl</td>\n",
       "      <td>0.015041</td>\n",
       "    </tr>\n",
       "    <tr>\n",
       "      <th>298</th>\n",
       "      <td>xs</td>\n",
       "      <td>0.015041</td>\n",
       "    </tr>\n",
       "    <tr>\n",
       "      <th>299</th>\n",
       "      <td>yoke</td>\n",
       "      <td>0.015041</td>\n",
       "    </tr>\n",
       "    <tr>\n",
       "      <th>300</th>\n",
       "      <td>yy</td>\n",
       "      <td>0.030082</td>\n",
       "    </tr>\n",
       "    <tr>\n",
       "      <th>301</th>\n",
       "      <td>zesica</td>\n",
       "      <td>0.030082</td>\n",
       "    </tr>\n",
       "  </tbody>\n",
       "</table>\n",
       "<p>302 rows × 2 columns</p>\n",
       "</div>"
      ],
      "text/plain": [
       "            word distracted\n",
       "0    accessories   0.045123\n",
       "1        account  -0.035922\n",
       "2            add  -0.071065\n",
       "3        address   0.015041\n",
       "4            adi  -0.071065\n",
       "..           ...        ...\n",
       "297           xl   0.015041\n",
       "298           xs   0.015041\n",
       "299         yoke   0.015041\n",
       "300           yy   0.030082\n",
       "301       zesica   0.030082\n",
       "\n",
       "[302 rows x 2 columns]"
      ]
     },
     "execution_count": 44,
     "metadata": {},
     "output_type": "execute_result"
    }
   ],
   "source": [
    "df_feats_impts"
   ]
  },
  {
   "cell_type": "code",
   "execution_count": 45,
   "id": "e155d3c3",
   "metadata": {},
   "outputs": [],
   "source": [
    "#Creating Individual Feature Importance table by sorting on specific toxic-type column and selecting top 5 words\n",
    "focused_fi = df_feats_impts[[\"word\",\"distracted\"]].sort_values(by = \"distracted\", ascending = False).head(20)"
   ]
  },
  {
   "cell_type": "code",
   "execution_count": 46,
   "id": "3fbeadf5",
   "metadata": {},
   "outputs": [
    {
     "data": {
      "text/html": [
       "<div>\n",
       "<style scoped>\n",
       "    .dataframe tbody tr th:only-of-type {\n",
       "        vertical-align: middle;\n",
       "    }\n",
       "\n",
       "    .dataframe tbody tr th {\n",
       "        vertical-align: top;\n",
       "    }\n",
       "\n",
       "    .dataframe thead th {\n",
       "        text-align: right;\n",
       "    }\n",
       "</style>\n",
       "<table border=\"1\" class=\"dataframe\">\n",
       "  <thead>\n",
       "    <tr style=\"text-align: right;\">\n",
       "      <th></th>\n",
       "      <th>word</th>\n",
       "      <th>distracted</th>\n",
       "    </tr>\n",
       "  </thead>\n",
       "  <tbody>\n",
       "    <tr>\n",
       "      <th>294</th>\n",
       "      <td>womens</td>\n",
       "      <td>0.240654</td>\n",
       "    </tr>\n",
       "    <tr>\n",
       "      <th>10</th>\n",
       "      <td>amazon</td>\n",
       "      <td>0.165449</td>\n",
       "    </tr>\n",
       "    <tr>\n",
       "      <th>80</th>\n",
       "      <td>dress</td>\n",
       "      <td>0.150409</td>\n",
       "    </tr>\n",
       "    <tr>\n",
       "      <th>253</th>\n",
       "      <td>summer</td>\n",
       "      <td>0.120327</td>\n",
       "    </tr>\n",
       "    <tr>\n",
       "      <th>222</th>\n",
       "      <td>sellers</td>\n",
       "      <td>0.120327</td>\n",
       "    </tr>\n",
       "    <tr>\n",
       "      <th>30</th>\n",
       "      <td>best</td>\n",
       "      <td>0.120327</td>\n",
       "    </tr>\n",
       "    <tr>\n",
       "      <th>46</th>\n",
       "      <td>casual</td>\n",
       "      <td>0.120327</td>\n",
       "    </tr>\n",
       "    <tr>\n",
       "      <th>81</th>\n",
       "      <td>dresses</td>\n",
       "      <td>0.105286</td>\n",
       "    </tr>\n",
       "    <tr>\n",
       "      <th>259</th>\n",
       "      <td>te</td>\n",
       "      <td>0.105286</td>\n",
       "    </tr>\n",
       "    <tr>\n",
       "      <th>240</th>\n",
       "      <td>sleeve</td>\n",
       "      <td>0.090245</td>\n",
       "    </tr>\n",
       "    <tr>\n",
       "      <th>270</th>\n",
       "      <td>tops</td>\n",
       "      <td>0.075204</td>\n",
       "    </tr>\n",
       "    <tr>\n",
       "      <th>92</th>\n",
       "      <td>essentials</td>\n",
       "      <td>0.075204</td>\n",
       "    </tr>\n",
       "    <tr>\n",
       "      <th>149</th>\n",
       "      <td>loose</td>\n",
       "      <td>0.060163</td>\n",
       "    </tr>\n",
       "    <tr>\n",
       "      <th>206</th>\n",
       "      <td>products</td>\n",
       "      <td>0.060163</td>\n",
       "    </tr>\n",
       "    <tr>\n",
       "      <th>170</th>\n",
       "      <td>neck</td>\n",
       "      <td>0.060163</td>\n",
       "    </tr>\n",
       "    <tr>\n",
       "      <th>233</th>\n",
       "      <td>short</td>\n",
       "      <td>0.060163</td>\n",
       "    </tr>\n",
       "    <tr>\n",
       "      <th>153</th>\n",
       "      <td>maxi</td>\n",
       "      <td>0.060163</td>\n",
       "    </tr>\n",
       "    <tr>\n",
       "      <th>0</th>\n",
       "      <td>accessories</td>\n",
       "      <td>0.045123</td>\n",
       "    </tr>\n",
       "    <tr>\n",
       "      <th>148</th>\n",
       "      <td>long</td>\n",
       "      <td>0.045123</td>\n",
       "    </tr>\n",
       "    <tr>\n",
       "      <th>70</th>\n",
       "      <td>crew</td>\n",
       "      <td>0.045123</td>\n",
       "    </tr>\n",
       "  </tbody>\n",
       "</table>\n",
       "</div>"
      ],
      "text/plain": [
       "            word distracted\n",
       "294       womens   0.240654\n",
       "10        amazon   0.165449\n",
       "80         dress   0.150409\n",
       "253       summer   0.120327\n",
       "222      sellers   0.120327\n",
       "30          best   0.120327\n",
       "46        casual   0.120327\n",
       "81       dresses   0.105286\n",
       "259           te   0.105286\n",
       "240       sleeve   0.090245\n",
       "270         tops   0.075204\n",
       "92    essentials   0.075204\n",
       "149        loose   0.060163\n",
       "206     products   0.060163\n",
       "170         neck   0.060163\n",
       "233        short   0.060163\n",
       "153         maxi   0.060163\n",
       "0    accessories   0.045123\n",
       "148         long   0.045123\n",
       "70          crew   0.045123"
      ]
     },
     "execution_count": 46,
     "metadata": {},
     "output_type": "execute_result"
    }
   ],
   "source": [
    "focused_fi"
   ]
  },
  {
   "cell_type": "code",
   "execution_count": null,
   "id": "02a08a6e",
   "metadata": {},
   "outputs": [],
   "source": []
  }
 ],
 "metadata": {
  "kernelspec": {
   "display_name": "MLADHD_env",
   "language": "python",
   "name": "python3"
  },
  "language_info": {
   "codemirror_mode": {
    "name": "ipython",
    "version": 3
   },
   "file_extension": ".py",
   "mimetype": "text/x-python",
   "name": "python",
   "nbconvert_exporter": "python",
   "pygments_lexer": "ipython3",
   "version": "3.10.10"
  }
 },
 "nbformat": 4,
 "nbformat_minor": 5
}
