{
 "cells": [
  {
   "attachments": {},
   "cell_type": "markdown",
   "id": "f587c869",
   "metadata": {},
   "source": [
    "# Topic modeling"
   ]
  },
  {
   "attachments": {},
   "cell_type": "markdown",
   "id": "52325b43",
   "metadata": {},
   "source": [
    "Notebook created by [Gonzalo Córdova](https://github.com/gonzalo-cordova-pou) in May 2023. (Last update: May 2023)\n",
    "For any doubts: gonzalo.cordova@estudiantat.upc.edu\n",
    "\n",
    "This notebook is an approach to topic modeling. The aim is to find the topics of a set of screenshots. The text used is the output of the OCR of the screenshots.\n",
    "\n",
    "## Table of contents\n",
    "\n",
    "- [Load fastText](#Load-fasttext)\n",
    "- [Topic definition](#Topic-definition)\n",
    "- [Load and clean data](#Load-and-clean-data)\n",
    "- [Topic modeling](#Topic-modeling)\n",
    "- [Results](#Results)"
   ]
  },
  {
   "cell_type": "code",
   "execution_count": 3,
   "id": "e4307682",
   "metadata": {},
   "outputs": [],
   "source": [
    "import NLPutils as nlp\n",
    "import pandas as pd\n",
    "import numpy as np\n",
    "from sklearn.metrics import top_k_accuracy_score"
   ]
  },
  {
   "attachments": {},
   "cell_type": "markdown",
   "id": "0a304b1c",
   "metadata": {},
   "source": [
    "## Load fasttext\n",
    "\n",
    "fastText is a library for efficient learning of word representations and sentence classification.\n",
    "\n",
    "Find more information about fastText [here](https://fasttext.cc/docs/en/aligned-vectors.html).\n",
    "The current version being used is `wiki.en.vec` from [here](https://fasttext.cc/docs/en/pretrained-vectors.html).\n",
    "\n",
    "We use our NLPutils module to load the fasttext model:\n",
    "\n",
    "*Note: The following cell takes a while to run.*"
   ]
  },
  {
   "cell_type": "code",
   "execution_count": 2,
   "id": "a44dfac2",
   "metadata": {},
   "outputs": [],
   "source": [
    "model = nlp.load_model()"
   ]
  },
  {
   "attachments": {},
   "cell_type": "markdown",
   "id": "4fca3bcc",
   "metadata": {},
   "source": [
    "Lets see an example of the model embeddings with the word \"physics\":"
   ]
  },
  {
   "cell_type": "code",
   "execution_count": 4,
   "id": "8e17cff1",
   "metadata": {},
   "outputs": [
    {
     "data": {
      "text/plain": [
       "array([-0.030296, -0.27108 ,  0.17324 ,  0.44757 , -0.017513,  0.065391,\n",
       "       -0.042368, -0.43282 ,  0.18655 ,  0.2126  ], dtype=float32)"
      ]
     },
     "execution_count": 4,
     "metadata": {},
     "output_type": "execute_result"
    }
   ],
   "source": [
    "model['physics'][:10]"
   ]
  },
  {
   "attachments": {},
   "cell_type": "markdown",
   "id": "bd416ee4",
   "metadata": {},
   "source": [
    "## Topic definition\n",
    "\n",
    "Each topic is defined by a set of words that we will call \"keywords\". Each of those keywords will have an embedding representation. The topic embedding is the centroid of the embeddings of the keywords. The topic centroid will be used to find the most similar topics to a given text.\n",
    "\n",
    "- We load the topic keywords embeddings,\n",
    "- We calculate the topic centroids,\n",
    "\n",
    "Let's see the names of the topics:"
   ]
  },
  {
   "cell_type": "code",
   "execution_count": 5,
   "id": "d7108aa9",
   "metadata": {},
   "outputs": [
    {
     "name": "stdout",
     "output_type": "stream",
     "text": [
      "['ComputerScience', 'Chemistry', 'Physics', 'Math&Statistics', 'Pharma', 'Biology', 'Psychology', 'Business', 'Gender', 'Philosophy&Ethics', 'Politics&Society', 'Arts', 'Astronomy', 'Literature']\n"
     ]
    }
   ],
   "source": [
    "topic_keywords_embed = nlp.get_topic_keywords_embed(model)\n",
    "topic_centroids = nlp.get_topic_centroids(topic_keywords_embed)\n",
    "print(list(topic_centroids.keys()))"
   ]
  },
  {
   "attachments": {},
   "cell_type": "markdown",
   "id": "6f26a55e",
   "metadata": {},
   "source": [
    "The following cell searchs for the top k nearest words to each topic centroid. This can be used to get a sort of explainability of the topics.\n",
    "\n",
    "*Note: The following cell takes a while to run.*"
   ]
  },
  {
   "cell_type": "code",
   "execution_count": 6,
   "id": "bd7631ec",
   "metadata": {},
   "outputs": [],
   "source": [
    "# OPTIONAL - Get the 10 nearest words to each centroid\n",
    "# centroid_near_words = get_k_nearest_words_from_cat(centroids, model, 10)\n",
    "# centroid_near_words"
   ]
  },
  {
   "attachments": {},
   "cell_type": "markdown",
   "id": "8f8a08d0",
   "metadata": {},
   "source": [
    "## Load and clean data\n",
    "\n",
    "Lets load the dataset containing the OCR output of the screenshots. We will filter the dataset to only keep the screenshots of the \"focused\" category.\n",
    "Note that we drop the rows with empty text."
   ]
  },
  {
   "cell_type": "code",
   "execution_count": 8,
   "id": "7dadcfd9",
   "metadata": {},
   "outputs": [
    {
     "data": {
      "text/html": [
       "<div>\n",
       "<style scoped>\n",
       "    .dataframe tbody tr th:only-of-type {\n",
       "        vertical-align: middle;\n",
       "    }\n",
       "\n",
       "    .dataframe tbody tr th {\n",
       "        vertical-align: top;\n",
       "    }\n",
       "\n",
       "    .dataframe thead th {\n",
       "        text-align: right;\n",
       "    }\n",
       "</style>\n",
       "<table border=\"1\" class=\"dataframe\">\n",
       "  <thead>\n",
       "    <tr style=\"text-align: right;\">\n",
       "      <th></th>\n",
       "      <th>class</th>\n",
       "      <th>text</th>\n",
       "      <th>image</th>\n",
       "      <th>course</th>\n",
       "    </tr>\n",
       "  </thead>\n",
       "  <tbody>\n",
       "    <tr>\n",
       "      <th>0</th>\n",
       "      <td>0</td>\n",
       "      <td>© From your Google Drive Interview-Mode BK99 S...</td>\n",
       "      <td>focused_Algorithms_one_0.jpg</td>\n",
       "      <td>Algorithms</td>\n",
       "    </tr>\n",
       "    <tr>\n",
       "      <th>1</th>\n",
       "      <td>0</td>\n",
       "      <td>=] Computatior] ] + File Edit View Insert Form...</td>\n",
       "      <td>focused_Algorithms_one_1.jpg</td>\n",
       "      <td>Algorithms</td>\n",
       "    </tr>\n",
       "    <tr>\n",
       "      <th>2</th>\n",
       "      <td>0</td>\n",
       "      <td>= 401 Computational Geometry   File Edit View ...</td>\n",
       "      <td>focused_Algorithms_one_10.jpg</td>\n",
       "      <td>Algorithms</td>\n",
       "    </tr>\n",
       "    <tr>\n",
       "      <th>3</th>\n",
       "      <td>0</td>\n",
       "      <td>= 401 Computational Geometry   File Edit View ...</td>\n",
       "      <td>focused_Algorithms_one_100.jpg</td>\n",
       "      <td>Algorithms</td>\n",
       "    </tr>\n",
       "    <tr>\n",
       "      <th>4</th>\n",
       "      <td>0</td>\n",
       "      <td>= 401 Computational Geometry   File Edit View ...</td>\n",
       "      <td>focused_Algorithms_one_101.jpg</td>\n",
       "      <td>Algorithms</td>\n",
       "    </tr>\n",
       "  </tbody>\n",
       "</table>\n",
       "</div>"
      ],
      "text/plain": [
       "   class                                               text   \n",
       "0      0  © From your Google Drive Interview-Mode BK99 S...  \\\n",
       "1      0  =] Computatior] ] + File Edit View Insert Form...   \n",
       "2      0  = 401 Computational Geometry   File Edit View ...   \n",
       "3      0  = 401 Computational Geometry   File Edit View ...   \n",
       "4      0  = 401 Computational Geometry   File Edit View ...   \n",
       "\n",
       "                            image      course  \n",
       "0    focused_Algorithms_one_0.jpg  Algorithms  \n",
       "1    focused_Algorithms_one_1.jpg  Algorithms  \n",
       "2   focused_Algorithms_one_10.jpg  Algorithms  \n",
       "3  focused_Algorithms_one_100.jpg  Algorithms  \n",
       "4  focused_Algorithms_one_101.jpg  Algorithms  "
      ]
     },
     "execution_count": 8,
     "metadata": {},
     "output_type": "execute_result"
    }
   ],
   "source": [
    "# Read data into papers\n",
    "data = pd.read_csv('D:\\\\Alerta Backup Data\\\\gonzalo_data\\\\datasets\\\\text\\\\data_clean_large.csv', sep=';')\n",
    "data = data.dropna(subset=['text'])\n",
    "data = data[data['class'] == 0] # Only \"focused\" class\n",
    "data['course'] = data['image'].apply(lambda x: x.split('_')[1]) # Extract course from 'image' column\n",
    "courses = set(data['course']) # Extract set of courses\n",
    "data.head()"
   ]
  },
  {
   "attachments": {},
   "cell_type": "markdown",
   "id": "6ad96e8b",
   "metadata": {},
   "source": [
    "Now we will map the `course` column to the `topic` column. This will be done using the `nlp.group_courses` function. This function takes a list of courses and returns the topic that best represents them according to a dictionary in the `NLPutils` module.\n",
    "\n",
    "Let's see the distribution of the topics:"
   ]
  },
  {
   "cell_type": "code",
   "execution_count": 9,
   "id": "e80084e8",
   "metadata": {},
   "outputs": [
    {
     "data": {
      "text/plain": [
       "topic\n",
       "Politics&Society     1419\n",
       "ComputerScience       809\n",
       "Chemistry             777\n",
       "Biology               650\n",
       "Business              607\n",
       "Math&Statistics       510\n",
       "Philosophy&Ethics     468\n",
       "Astronomy             269\n",
       "Literature            265\n",
       "Gender                191\n",
       "Pharma                141\n",
       "Arts                   93\n",
       "Physics                48\n",
       "Psychology             37\n",
       "Name: count, dtype: int64"
      ]
     },
     "execution_count": 9,
     "metadata": {},
     "output_type": "execute_result"
    }
   ],
   "source": [
    "# Create a new column called 'topic' that has the value of the course group\n",
    "data['topic'] = data['course'].apply(nlp.group_courses)\n",
    "data = data.dropna(subset=['topic'])\n",
    "data = data.dropna(subset=['text'])\n",
    "if set(topic_centroids.keys()) != set(data['topic'].unique()):\n",
    "    raise Exception('The topic centroids and the data topics are not the same')\n",
    "# Print the number of courses per topic\n",
    "data['topic'].value_counts()"
   ]
  },
  {
   "attachments": {},
   "cell_type": "markdown",
   "id": "ad86ac15",
   "metadata": {},
   "source": [
    "Now we generate an id for each topic:"
   ]
  },
  {
   "cell_type": "code",
   "execution_count": 10,
   "id": "fffe7cab",
   "metadata": {},
   "outputs": [
    {
     "data": {
      "text/plain": [
       "{'ComputerScience': 0,\n",
       " 'Arts': 1,\n",
       " 'Astronomy': 2,\n",
       " 'Biology': 3,\n",
       " 'Business': 4,\n",
       " 'Chemistry': 5,\n",
       " 'Math&Statistics': 6,\n",
       " 'Philosophy&Ethics': 7,\n",
       " 'Gender': 8,\n",
       " 'Politics&Society': 9,\n",
       " 'Psychology': 10,\n",
       " 'Literature': 11,\n",
       " 'Pharma': 12,\n",
       " 'Physics': 13}"
      ]
     },
     "execution_count": 10,
     "metadata": {},
     "output_type": "execute_result"
    }
   ],
   "source": [
    "# Set a topic index\n",
    "data['topic_id'] = data['topic'].factorize()[0]\n",
    "# Create a dict where key = topic and value = topic_id\n",
    "topic_to_id = dict(data[['topic', 'topic_id']].drop_duplicates().sort_values('topic_id').values)\n",
    "topic_to_id"
   ]
  },
  {
   "attachments": {},
   "cell_type": "markdown",
   "id": "2c1fff63",
   "metadata": {},
   "source": [
    "We keep only the columns we need:"
   ]
  },
  {
   "cell_type": "code",
   "execution_count": 11,
   "id": "2144899e",
   "metadata": {},
   "outputs": [
    {
     "data": {
      "text/html": [
       "<div>\n",
       "<style scoped>\n",
       "    .dataframe tbody tr th:only-of-type {\n",
       "        vertical-align: middle;\n",
       "    }\n",
       "\n",
       "    .dataframe tbody tr th {\n",
       "        vertical-align: top;\n",
       "    }\n",
       "\n",
       "    .dataframe thead th {\n",
       "        text-align: right;\n",
       "    }\n",
       "</style>\n",
       "<table border=\"1\" class=\"dataframe\">\n",
       "  <thead>\n",
       "    <tr style=\"text-align: right;\">\n",
       "      <th></th>\n",
       "      <th>text</th>\n",
       "      <th>topic_id</th>\n",
       "    </tr>\n",
       "  </thead>\n",
       "  <tbody>\n",
       "    <tr>\n",
       "      <th>0</th>\n",
       "      <td>© From your Google Drive Interview-Mode BK99 S...</td>\n",
       "      <td>0</td>\n",
       "    </tr>\n",
       "    <tr>\n",
       "      <th>1</th>\n",
       "      <td>=] Computatior] ] + File Edit View Insert Form...</td>\n",
       "      <td>0</td>\n",
       "    </tr>\n",
       "    <tr>\n",
       "      <th>2</th>\n",
       "      <td>= 401 Computational Geometry   File Edit View ...</td>\n",
       "      <td>0</td>\n",
       "    </tr>\n",
       "    <tr>\n",
       "      <th>3</th>\n",
       "      <td>= 401 Computational Geometry   File Edit View ...</td>\n",
       "      <td>0</td>\n",
       "    </tr>\n",
       "    <tr>\n",
       "      <th>4</th>\n",
       "      <td>= 401 Computational Geometry   File Edit View ...</td>\n",
       "      <td>0</td>\n",
       "    </tr>\n",
       "  </tbody>\n",
       "</table>\n",
       "</div>"
      ],
      "text/plain": [
       "                                                text  topic_id\n",
       "0  © From your Google Drive Interview-Mode BK99 S...         0\n",
       "1  =] Computatior] ] + File Edit View Insert Form...         0\n",
       "2  = 401 Computational Geometry   File Edit View ...         0\n",
       "3  = 401 Computational Geometry   File Edit View ...         0\n",
       "4  = 401 Computational Geometry   File Edit View ...         0"
      ]
     },
     "execution_count": 11,
     "metadata": {},
     "output_type": "execute_result"
    }
   ],
   "source": [
    "# Drop the columns that are not needed: 'class', 'image', 'course', 'topic'\n",
    "data = data.drop(columns=['class', 'image', 'course', 'topic'])\n",
    "data.head()"
   ]
  },
  {
   "attachments": {},
   "cell_type": "markdown",
   "id": "aad174b8",
   "metadata": {},
   "source": [
    "We clean the text:"
   ]
  },
  {
   "cell_type": "code",
   "execution_count": 12,
   "id": "b1903f14",
   "metadata": {},
   "outputs": [
    {
     "name": "stderr",
     "output_type": "stream",
     "text": [
      "[nltk_data] Downloading package stopwords to\n",
      "[nltk_data]     C:\\Users\\Gonzalo\\AppData\\Roaming\\nltk_data...\n",
      "[nltk_data]   Package stopwords is already up-to-date!\n"
     ]
    }
   ],
   "source": [
    "text = data.text\n",
    "stop_words = nlp.get_stopwords()\n",
    "data_words = nlp.remove_stopwords(list(nlp.sent_to_words([nlp.clean(doc) for doc in text])), stop_words)"
   ]
  },
  {
   "attachments": {},
   "cell_type": "markdown",
   "id": "05a053ee",
   "metadata": {},
   "source": [
    "## Topic modeling"
   ]
  },
  {
   "attachments": {},
   "cell_type": "markdown",
   "id": "39450215",
   "metadata": {},
   "source": [
    "Inside the `NLPutils` module we have several functions to perform topic modeling:\n",
    "- `nearest_cat` returns the nearest topic (and distance) to a given text.\n",
    "- `nlp.sentence_nearest_cat` returns the nearest topic (and distance) to a given text (list of words).\n",
    "- `sentence_cats_probs` returns the probability of each topic given a text (list of words)."
   ]
  },
  {
   "cell_type": "code",
   "execution_count": 13,
   "id": "c96f016d",
   "metadata": {},
   "outputs": [
    {
     "data": {
      "text/plain": [
       "('Physics', 3.3009569672380294)"
      ]
     },
     "execution_count": 13,
     "metadata": {},
     "output_type": "execute_result"
    }
   ],
   "source": [
    "nlp.nearest_cat(topic_centroids, 'physics', model)"
   ]
  },
  {
   "cell_type": "code",
   "execution_count": 14,
   "id": "4808be31",
   "metadata": {},
   "outputs": [
    {
     "data": {
      "text/plain": [
       "('ComputerScience', 1.7229635259456093)"
      ]
     },
     "execution_count": 14,
     "metadata": {},
     "output_type": "execute_result"
    }
   ],
   "source": [
    "nlp.sentence_nearest_cat(data_words[0], topic_centroids, model)"
   ]
  },
  {
   "cell_type": "code",
   "execution_count": 15,
   "id": "ec1a7ae6",
   "metadata": {},
   "outputs": [
    {
     "data": {
      "text/plain": [
       "array([0.14751143, 0.11745357, 0.03821216, 0.04903981, 0.09101458,\n",
       "       0.04480395, 0.08543381, 0.04318532, 0.0351992 , 0.10013186,\n",
       "       0.07482327, 0.06863468, 0.02816802, 0.07638834])"
      ]
     },
     "execution_count": 15,
     "metadata": {},
     "output_type": "execute_result"
    }
   ],
   "source": [
    "nlp.sentence_cats_probs(data_words[0], topic_centroids, model, topic_to_id)"
   ]
  },
  {
   "attachments": {},
   "cell_type": "markdown",
   "id": "8d4aa608",
   "metadata": {},
   "source": [
    "## Results\n",
    "\n",
    "Let's run the `sentence_cats_probs` function on the dataset:"
   ]
  },
  {
   "cell_type": "code",
   "execution_count": 16,
   "id": "7bdbfd10",
   "metadata": {},
   "outputs": [],
   "source": [
    "preds = []\n",
    "for i in range(len(data_words)):\n",
    "    preds.append(nlp.sentence_cats_probs(data_words[i], topic_centroids, model, topic_to_id))\n",
    "data[\"preds\"] = preds"
   ]
  },
  {
   "attachments": {},
   "cell_type": "markdown",
   "id": "d4ead591",
   "metadata": {},
   "source": [
    "Now we can use the top-k accuracy metric to evaluate the results:\n",
    "\n",
    "*For more information about this metric, check [scikit-learn documentation](https://scikit-learn.org/stable/modules/generated/sklearn.metrics.top_k_accuracy_score.html#:~:text=Top%2Dk%20Accuracy%20classification%20score,(ranked%20by%20predicted%20scores).) link.*"
   ]
  },
  {
   "cell_type": "code",
   "execution_count": 17,
   "id": "750c4861",
   "metadata": {},
   "outputs": [
    {
     "name": "stderr",
     "output_type": "stream",
     "text": [
      "c:\\Users\\Gonzalo\\anaconda3\\envs\\MLADHD_env\\lib\\site-packages\\sklearn\\metrics\\_ranking.py:1802: UndefinedMetricWarning: 'k' (14) greater than or equal to 'n_classes' (14) will result in a perfect score and is therefore meaningless.\n",
      "  warnings.warn(\n"
     ]
    }
   ],
   "source": [
    "y_true = np.array(data.topic_id.to_list())\n",
    "y_score = np.array(data.preds.to_list())\n",
    "accs = []\n",
    "ks = []\n",
    "for i in range(1+len(topic_centroids.keys())):\n",
    "    accs.append(top_k_accuracy_score(y_true, y_score, k=i))\n",
    "    ks.append(i)"
   ]
  },
  {
   "attachments": {},
   "cell_type": "markdown",
   "id": "3a85149e",
   "metadata": {},
   "source": [
    "We plot the results for each k from 1 to number of topics:"
   ]
  },
  {
   "cell_type": "code",
   "execution_count": 18,
   "id": "88174d20",
   "metadata": {},
   "outputs": [
    {
     "data": {
      "image/png": "[encoded data removed]",
      "text/plain": [
       "<Figure size 640x480 with 1 Axes>"
      ]
     },
     "metadata": {},
     "output_type": "display_data"
    }
   ],
   "source": [
    "# plot the top k accuracy scores\n",
    "import matplotlib.pyplot as plt\n",
    "plt.plot(ks, accs)\n",
    "plt.plot([0, 15], [1/len(topic_centroids.keys()), 1/len(topic_centroids.keys())], 'k--')\n",
    "plt.grid()\n",
    "plt.ylim(0, 1)\n",
    "plt.xlim(0, 15)\n",
    "plt.title('Top k accuracy')\n",
    "plt.xlabel('k')\n",
    "plt.ylabel('top k accuracy')\n",
    "plt.show()"
   ]
  }
 ],
 "metadata": {
  "kernelspec": {
   "display_name": "MLADHD_env",
   "language": "python",
   "name": "python3"
  },
  "language_info": {
   "codemirror_mode": {
    "name": "ipython",
    "version": 3
   },
   "file_extension": ".py",
   "mimetype": "text/x-python",
   "name": "python",
   "nbconvert_exporter": "python",
   "pygments_lexer": "ipython3",
   "version": "3.10.10"
  }
 },
 "nbformat": 4,
 "nbformat_minor": 5
}
