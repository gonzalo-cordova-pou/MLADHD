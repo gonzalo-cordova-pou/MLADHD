{
  "nbformat": 4,
  "nbformat_minor": 0,
  "metadata": {
    "colab": {
      "provenance": []
    },
    "kernelspec": {
      "name": "python3",
      "display_name": "Python 3"
    },
    "language_info": {
      "name": "python"
    },
    "accelerator": "GPU",
    "gpuClass": "standard"
  },
  "cells": [
    {
      "cell_type": "code",
      "source": [
        "from os import listdir\n",
        "from os.path import isfile, join\n",
        "import pandas as pd\n",
        "import random\n",
        "\n",
        "import torch\n",
        "import numpy as np\n",
        "\n",
        "from torch import nn, optim\n",
        "from torchvision import datasets, transforms\n",
        "from torch.utils.data import sampler, DataLoader\n",
        "from torchvision.models import resnet50, ResNet50_Weights\n",
        "\n",
        "import matplotlib.pyplot as plt"
      ],
      "metadata": {
        "id": "a2vhanFHGVJ-"
      },
      "execution_count": 8,
      "outputs": []
    },
    {
      "cell_type": "code",
      "execution_count": 2,
      "metadata": {
        "colab": {
          "base_uri": "https://localhost:8080/"
        },
        "id": "aiCc77T8FWZZ",
        "outputId": "1a237c27-598a-449e-c991-05e68bd817e2"
      },
      "outputs": [
        {
          "output_type": "stream",
          "name": "stdout",
          "text": [
            "Mounted at /content/drive\n"
          ]
        }
      ],
      "source": [
        "from google.colab import drive\n",
        "# Make sure to include a direct access from your Drive to the project shared folder\n",
        "drive.mount('/content/drive')"
      ]
    },
    {
      "cell_type": "code",
      "source": [
        "username = 'JulianaGSouza'\n",
        "repository = 'MLADHD'\n",
        "# To generate a github token check this link: https://docs.github.com/en/enterprise-server@3.4/authentication/keeping-your-account-and-data-secure/creating-a-personal-access-token\n",
        "token = ''"
      ],
      "metadata": {
        "id": "kNXFv57dKXGG"
      },
      "execution_count": 3,
      "outputs": []
    },
    {
      "cell_type": "code",
      "source": [
        "!git clone https://{token}@github.com/{username}/{repository}"
      ],
      "metadata": {
        "colab": {
          "base_uri": "https://localhost:8080/"
        },
        "id": "UbZvT8fdK5po",
        "outputId": "113c448a-3a64-44e4-f227-d71f13e0ff49"
      },
      "execution_count": 4,
      "outputs": [
        {
          "output_type": "stream",
          "name": "stdout",
          "text": [
            "Cloning into 'MLADHD'...\n",
            "remote: Enumerating objects: 3533, done.\u001b[K\n",
            "remote: Counting objects: 100% (517/517), done.\u001b[K\n",
            "remote: Compressing objects: 100% (504/504), done.\u001b[K\n",
            "remote: Total 3533 (delta 17), reused 503 (delta 12), pack-reused 3016\u001b[K\n",
            "Receiving objects: 100% (3533/3533), 703.20 MiB | 17.14 MiB/s, done.\n",
            "Resolving deltas: 100% (32/32), done.\n"
          ]
        }
      ]
    },
    {
      "cell_type": "code",
      "source": [
        "from MLADHD.mlmodeling import load_split_dataset, create_model, test_model"
      ],
      "metadata": {
        "id": "6D4kaz6fMIH1"
      },
      "execution_count": 6,
      "outputs": []
    },
    {
      "cell_type": "code",
      "source": [
        "DATA_PATH = '/content/drive/MyDrive/2023-ADHD-VCU-UPC/data/'\n",
        "workPath = DATA_PATH + 'work/'\n",
        "notWorkPath = DATA_PATH + 'not_work/game/'\n",
        "\n",
        "train, test = load_split_dataset(DATA_PATH, .3)\n",
        "print(\"Train & Test data loaders created!\")"
      ],
      "metadata": {
        "colab": {
          "base_uri": "https://localhost:8080/"
        },
        "id": "YXnwxqMmFZXx",
        "outputId": "f47bab51-c3ce-4427-bcea-f7e30faa9e7f"
      },
      "execution_count": 11,
      "outputs": [
        {
          "output_type": "stream",
          "name": "stdout",
          "text": [
            "Train & Test data loaders created!\n"
          ]
        }
      ]
    },
    {
      "cell_type": "code",
      "source": [
        "print(\"Loading model...\")\n",
        "model,loss = create_model(train)\n",
        "print(\"Model loaded!\")"
      ],
      "metadata": {
        "colab": {
          "base_uri": "https://localhost:8080/"
        },
        "id": "1BM8iN1_QqFa",
        "outputId": "c6db9840-bca0-42ae-b179-2539120f59b9"
      },
      "execution_count": 12,
      "outputs": [
        {
          "output_type": "stream",
          "name": "stdout",
          "text": [
            "Loading model...\n",
            "Model loaded!\n"
          ]
        }
      ]
    },
    {
      "cell_type": "code",
      "source": [
        "print(\"Testing model...\")\n",
        "test_loss,accuracy = test_model(model,test)\n",
        "print(test_loss,accuracy)"
      ],
      "metadata": {
        "colab": {
          "base_uri": "https://localhost:8080/"
        },
        "id": "dLWJK2rjQu6e",
        "outputId": "ef2ae74c-0f23-44d3-d1b0-53234c6aa4f7"
      },
      "execution_count": 13,
      "outputs": [
        {
          "output_type": "stream",
          "name": "stdout",
          "text": [
            "Testing model...\n",
            "0.053871979729996786 0.9803713162740072\n"
          ]
        }
      ]
    },
    {
      "cell_type": "code",
      "source": [
        "plt.plot(loss,label='Training loss')\n",
        "plt.legend(frameon=False)\n",
        "plt.show()"
      ],
      "metadata": {
        "colab": {
          "base_uri": "https://localhost:8080/",
          "height": 265
        },
        "id": "wWC3DzWLMof_",
        "outputId": "00f9bcc8-ed40-46f8-d36d-d8d53bcd2a40"
      },
      "execution_count": 14,
      "outputs": [
        {
          "output_type": "display_data",
          "data": {
            "text/plain": [
              "<Figure size 432x288 with 1 Axes>"
            ],
            "image/png": "[encoded data removed]"
          },
          "metadata": {
            "needs_background": "light"
          }
        }
      ]
    }
  ]
}