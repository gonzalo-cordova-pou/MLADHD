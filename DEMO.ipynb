{
  "nbformat": 4,
  "nbformat_minor": 0,
  "metadata": {
    "colab": {
      "provenance": []
    },
    "kernelspec": {
      "name": "python3",
      "display_name": "Python 3"
    },
    "language_info": {
      "name": "python"
    },
    "accelerator": "GPU",
    "gpuClass": "standard",
    "widgets": {
      "application/vnd.jupyter.widget-state+json": {
        "b5dc33d7920f4bf29fbdceedef8c9b41": {
          "model_module": "@jupyter-widgets/controls",
          "model_name": "HBoxModel",
          "model_module_version": "1.5.0",
          "state": {
            "_dom_classes": [],
            "_model_module": "@jupyter-widgets/controls",
            "_model_module_version": "1.5.0",
            "_model_name": "HBoxModel",
            "_view_count": null,
            "_view_module": "@jupyter-widgets/controls",
            "_view_module_version": "1.5.0",
            "_view_name": "HBoxView",
            "box_style": "",
            "children": [
              "IPY_MODEL_30c2bb89d6c74b8e957c4d47b3befee5",
              "IPY_MODEL_2a0db4c27da44f84b18016fc6e992ca2",
              "IPY_MODEL_7d2fbead352f43caa999db018d2a2ccf"
            ],
            "layout": "IPY_MODEL_fbe5d77bcd3f497eac669aed8aa0c8cc"
          }
        },
        "30c2bb89d6c74b8e957c4d47b3befee5": {
          "model_module": "@jupyter-widgets/controls",
          "model_name": "HTMLModel",
          "model_module_version": "1.5.0",
          "state": {
            "_dom_classes": [],
            "_model_module": "@jupyter-widgets/controls",
            "_model_module_version": "1.5.0",
            "_model_name": "HTMLModel",
            "_view_count": null,
            "_view_module": "@jupyter-widgets/controls",
            "_view_module_version": "1.5.0",
            "_view_name": "HTMLView",
            "description": "",
            "description_tooltip": null,
            "layout": "IPY_MODEL_cfa944a27f994983b84fb9cbf5097a6d",
            "placeholder": "​",
            "style": "IPY_MODEL_f4c287a4551947f0ab0a8a781bbda66b",
            "value": "100%"
          }
        },
        "2a0db4c27da44f84b18016fc6e992ca2": {
          "model_module": "@jupyter-widgets/controls",
          "model_name": "FloatProgressModel",
          "model_module_version": "1.5.0",
          "state": {
            "_dom_classes": [],
            "_model_module": "@jupyter-widgets/controls",
            "_model_module_version": "1.5.0",
            "_model_name": "FloatProgressModel",
            "_view_count": null,
            "_view_module": "@jupyter-widgets/controls",
            "_view_module_version": "1.5.0",
            "_view_name": "ProgressView",
            "bar_style": "success",
            "description": "",
            "description_tooltip": null,
            "layout": "IPY_MODEL_1d881218a3b34d60adca7cf44fa17c9d",
            "max": 102540417,
            "min": 0,
            "orientation": "horizontal",
            "style": "IPY_MODEL_78c86ca0c8d64ec1bb1f05ec919245df",
            "value": 102540417
          }
        },
        "7d2fbead352f43caa999db018d2a2ccf": {
          "model_module": "@jupyter-widgets/controls",
          "model_name": "HTMLModel",
          "model_module_version": "1.5.0",
          "state": {
            "_dom_classes": [],
            "_model_module": "@jupyter-widgets/controls",
            "_model_module_version": "1.5.0",
            "_model_name": "HTMLModel",
            "_view_count": null,
            "_view_module": "@jupyter-widgets/controls",
            "_view_module_version": "1.5.0",
            "_view_name": "HTMLView",
            "description": "",
            "description_tooltip": null,
            "layout": "IPY_MODEL_1debc4c762e1449da75a2a3d8afd4442",
            "placeholder": "​",
            "style": "IPY_MODEL_0c641a6335eb4dcc9a7a6b5a021b8358",
            "value": " 97.8M/97.8M [00:00&lt;00:00, 211MB/s]"
          }
        },
        "fbe5d77bcd3f497eac669aed8aa0c8cc": {
          "model_module": "@jupyter-widgets/base",
          "model_name": "LayoutModel",
          "model_module_version": "1.2.0",
          "state": {
            "_model_module": "@jupyter-widgets/base",
            "_model_module_version": "1.2.0",
            "_model_name": "LayoutModel",
            "_view_count": null,
            "_view_module": "@jupyter-widgets/base",
            "_view_module_version": "1.2.0",
            "_view_name": "LayoutView",
            "align_content": null,
            "align_items": null,
            "align_self": null,
            "border": null,
            "bottom": null,
            "display": null,
            "flex": null,
            "flex_flow": null,
            "grid_area": null,
            "grid_auto_columns": null,
            "grid_auto_flow": null,
            "grid_auto_rows": null,
            "grid_column": null,
            "grid_gap": null,
            "grid_row": null,
            "grid_template_areas": null,
            "grid_template_columns": null,
            "grid_template_rows": null,
            "height": null,
            "justify_content": null,
            "justify_items": null,
            "left": null,
            "margin": null,
            "max_height": null,
            "max_width": null,
            "min_height": null,
            "min_width": null,
            "object_fit": null,
            "object_position": null,
            "order": null,
            "overflow": null,
            "overflow_x": null,
            "overflow_y": null,
            "padding": null,
            "right": null,
            "top": null,
            "visibility": null,
            "width": null
          }
        },
        "cfa944a27f994983b84fb9cbf5097a6d": {
          "model_module": "@jupyter-widgets/base",
          "model_name": "LayoutModel",
          "model_module_version": "1.2.0",
          "state": {
            "_model_module": "@jupyter-widgets/base",
            "_model_module_version": "1.2.0",
            "_model_name": "LayoutModel",
            "_view_count": null,
            "_view_module": "@jupyter-widgets/base",
            "_view_module_version": "1.2.0",
            "_view_name": "LayoutView",
            "align_content": null,
            "align_items": null,
            "align_self": null,
            "border": null,
            "bottom": null,
            "display": null,
            "flex": null,
            "flex_flow": null,
            "grid_area": null,
            "grid_auto_columns": null,
            "grid_auto_flow": null,
            "grid_auto_rows": null,
            "grid_column": null,
            "grid_gap": null,
            "grid_row": null,
            "grid_template_areas": null,
            "grid_template_columns": null,
            "grid_template_rows": null,
            "height": null,
            "justify_content": null,
            "justify_items": null,
            "left": null,
            "margin": null,
            "max_height": null,
            "max_width": null,
            "min_height": null,
            "min_width": null,
            "object_fit": null,
            "object_position": null,
            "order": null,
            "overflow": null,
            "overflow_x": null,
            "overflow_y": null,
            "padding": null,
            "right": null,
            "top": null,
            "visibility": null,
            "width": null
          }
        },
        "f4c287a4551947f0ab0a8a781bbda66b": {
          "model_module": "@jupyter-widgets/controls",
          "model_name": "DescriptionStyleModel",
          "model_module_version": "1.5.0",
          "state": {
            "_model_module": "@jupyter-widgets/controls",
            "_model_module_version": "1.5.0",
            "_model_name": "DescriptionStyleModel",
            "_view_count": null,
            "_view_module": "@jupyter-widgets/base",
            "_view_module_version": "1.2.0",
            "_view_name": "StyleView",
            "description_width": ""
          }
        },
        "1d881218a3b34d60adca7cf44fa17c9d": {
          "model_module": "@jupyter-widgets/base",
          "model_name": "LayoutModel",
          "model_module_version": "1.2.0",
          "state": {
            "_model_module": "@jupyter-widgets/base",
            "_model_module_version": "1.2.0",
            "_model_name": "LayoutModel",
            "_view_count": null,
            "_view_module": "@jupyter-widgets/base",
            "_view_module_version": "1.2.0",
            "_view_name": "LayoutView",
            "align_content": null,
            "align_items": null,
            "align_self": null,
            "border": null,
            "bottom": null,
            "display": null,
            "flex": null,
            "flex_flow": null,
            "grid_area": null,
            "grid_auto_columns": null,
            "grid_auto_flow": null,
            "grid_auto_rows": null,
            "grid_column": null,
            "grid_gap": null,
            "grid_row": null,
            "grid_template_areas": null,
            "grid_template_columns": null,
            "grid_template_rows": null,
            "height": null,
            "justify_content": null,
            "justify_items": null,
            "left": null,
            "margin": null,
            "max_height": null,
            "max_width": null,
            "min_height": null,
            "min_width": null,
            "object_fit": null,
            "object_position": null,
            "order": null,
            "overflow": null,
            "overflow_x": null,
            "overflow_y": null,
            "padding": null,
            "right": null,
            "top": null,
            "visibility": null,
            "width": null
          }
        },
        "78c86ca0c8d64ec1bb1f05ec919245df": {
          "model_module": "@jupyter-widgets/controls",
          "model_name": "ProgressStyleModel",
          "model_module_version": "1.5.0",
          "state": {
            "_model_module": "@jupyter-widgets/controls",
            "_model_module_version": "1.5.0",
            "_model_name": "ProgressStyleModel",
            "_view_count": null,
            "_view_module": "@jupyter-widgets/base",
            "_view_module_version": "1.2.0",
            "_view_name": "StyleView",
            "bar_color": null,
            "description_width": ""
          }
        },
        "1debc4c762e1449da75a2a3d8afd4442": {
          "model_module": "@jupyter-widgets/base",
          "model_name": "LayoutModel",
          "model_module_version": "1.2.0",
          "state": {
            "_model_module": "@jupyter-widgets/base",
            "_model_module_version": "1.2.0",
            "_model_name": "LayoutModel",
            "_view_count": null,
            "_view_module": "@jupyter-widgets/base",
            "_view_module_version": "1.2.0",
            "_view_name": "LayoutView",
            "align_content": null,
            "align_items": null,
            "align_self": null,
            "border": null,
            "bottom": null,
            "display": null,
            "flex": null,
            "flex_flow": null,
            "grid_area": null,
            "grid_auto_columns": null,
            "grid_auto_flow": null,
            "grid_auto_rows": null,
            "grid_column": null,
            "grid_gap": null,
            "grid_row": null,
            "grid_template_areas": null,
            "grid_template_columns": null,
            "grid_template_rows": null,
            "height": null,
            "justify_content": null,
            "justify_items": null,
            "left": null,
            "margin": null,
            "max_height": null,
            "max_width": null,
            "min_height": null,
            "min_width": null,
            "object_fit": null,
            "object_position": null,
            "order": null,
            "overflow": null,
            "overflow_x": null,
            "overflow_y": null,
            "padding": null,
            "right": null,
            "top": null,
            "visibility": null,
            "width": null
          }
        },
        "0c641a6335eb4dcc9a7a6b5a021b8358": {
          "model_module": "@jupyter-widgets/controls",
          "model_name": "DescriptionStyleModel",
          "model_module_version": "1.5.0",
          "state": {
            "_model_module": "@jupyter-widgets/controls",
            "_model_module_version": "1.5.0",
            "_model_name": "DescriptionStyleModel",
            "_view_count": null,
            "_view_module": "@jupyter-widgets/base",
            "_view_module_version": "1.2.0",
            "_view_name": "StyleView",
            "description_width": ""
          }
        }
      }
    }
  },
  "cells": [
    {
      "cell_type": "markdown",
      "source": [
        "# MLADHD Experiment notebook\n",
        "\n",
        "Notebook created by [Gonzalo Córdova](https://github.com/gonzalo-cordova-pou) in January 2023.\n",
        "\n",
        "For any doubts: gonzalo.cordova@estudiantat.upc.edu"
      ],
      "metadata": {
        "id": "lGJuhr0K3BZY"
      }
    },
    {
      "cell_type": "markdown",
      "source": [
        "## Setting up our Colab enviroment"
      ],
      "metadata": {
        "id": "YU3wS2Th2jbL"
      }
    },
    {
      "cell_type": "markdown",
      "source": [
        "We import Python packages:"
      ],
      "metadata": {
        "id": "nXDt86be1pMU"
      }
    },
    {
      "cell_type": "code",
      "source": [
        "from os import listdir\n",
        "from os.path import isfile, join\n",
        "import pandas as pd\n",
        "import random\n",
        "import torch\n",
        "import numpy as np\n",
        "from torch import nn, optim\n",
        "from torchvision import datasets, transforms\n",
        "from torch.utils.data import sampler, DataLoader\n",
        "from torchvision.models import resnet50, ResNet50_Weights\n",
        "import matplotlib.pyplot as plt"
      ],
      "metadata": {
        "id": "a2vhanFHGVJ-"
      },
      "execution_count": 1,
      "outputs": []
    },
    {
      "cell_type": "markdown",
      "source": [
        "We mount our shared folder in Google Drive.\n",
        "\n",
        "IMPORTANT: You must have a direct access to the 2023-ADHD-VCU-UPC folder in your main Google Drive root."
      ],
      "metadata": {
        "id": "EME4z4pt1wmg"
      }
    },
    {
      "cell_type": "code",
      "execution_count": 2,
      "metadata": {
        "colab": {
          "base_uri": "https://localhost:8080/"
        },
        "id": "aiCc77T8FWZZ",
        "outputId": "ac17109e-7cda-4885-ded8-643f842212ca"
      },
      "outputs": [
        {
          "output_type": "stream",
          "name": "stdout",
          "text": [
            "Mounted at /content/drive\n"
          ]
        }
      ],
      "source": [
        "from google.colab import drive\n",
        "# Make sure to include a direct access from your Drive to the project shared folder\n",
        "drive.mount('/content/drive')"
      ]
    },
    {
      "cell_type": "markdown",
      "source": [
        "We clone [our GitHub repo](https://github.com/JulianaGSouza/MLADHD) to the Colab enviroment. Make sure that you have access to the repository.\n",
        "\n",
        "If you don't know how to generate a github token check this link: https://docs.github.com/en/enterprise-server@3.4/authentication/keeping-your-account-and-data-secure/creating-a-personal-access-token\n",
        "\n"
      ],
      "metadata": {
        "id": "pNQiwc8n2B4Q"
      }
    },
    {
      "cell_type": "code",
      "source": [
        "username = 'JulianaGSouza'\n",
        "repository = 'MLADHD'\n",
        "token = ''"
      ],
      "metadata": {
        "id": "kNXFv57dKXGG"
      },
      "execution_count": 3,
      "outputs": []
    },
    {
      "cell_type": "code",
      "source": [
        "!git clone https://{token}@github.com/{username}/{repository}"
      ],
      "metadata": {
        "colab": {
          "base_uri": "https://localhost:8080/"
        },
        "id": "UbZvT8fdK5po",
        "outputId": "bc5c241a-7d49-4dd8-a910-29565bd128f5"
      },
      "execution_count": 4,
      "outputs": [
        {
          "output_type": "stream",
          "name": "stdout",
          "text": [
            "Cloning into 'MLADHD'...\n",
            "remote: Enumerating objects: 3556, done.\u001b[K\n",
            "remote: Counting objects: 100% (540/540), done.\u001b[K\n",
            "remote: Compressing objects: 100% (519/519), done.\u001b[K\n",
            "remote: Total 3556 (delta 28), reused 523 (delta 20), pack-reused 3016\u001b[K\n",
            "Receiving objects: 100% (3556/3556), 703.23 MiB | 22.08 MiB/s, done.\n",
            "Resolving deltas: 100% (43/43), done.\n"
          ]
        }
      ]
    },
    {
      "cell_type": "markdown",
      "source": [
        "Finally import our MLADHD module."
      ],
      "metadata": {
        "id": "SwK-ykIR2c-8"
      }
    },
    {
      "cell_type": "code",
      "source": [
        "from MLADHD.mlmodeling import *"
      ],
      "metadata": {
        "id": "6D4kaz6fMIH1"
      },
      "execution_count": 5,
      "outputs": []
    },
    {
      "cell_type": "markdown",
      "source": [
        "## Experiments\n",
        "\n",
        "- [**Case 1:** Crating a new model.](#s1)\n",
        "- [**Case 2:** Using our pretrained models [IN PROGRESS..]](#s2)"
      ],
      "metadata": {
        "id": "6LInp0yb4X5N"
      }
    },
    {
      "cell_type": "markdown",
      "source": [
        "<a name='s1'></a>\n",
        "### Experiment - Case 1: Creating a new model"
      ],
      "metadata": {
        "id": "bNy9MDmg2ikn"
      }
    },
    {
      "cell_type": "markdown",
      "source": [
        "The idea of case 1 is to create a model by using a pretrained PyTorch model and adding a classification layer. We will train the model freezing the pretrained model (resnet50, in this case).\n",
        "\n",
        "- Choose a name for the model\n",
        "- Indicate where the data is stored\n",
        "- Choose where to save the model\n",
        "- Choose a validation size\n",
        "\n",
        "**IMPORTANT** Make sure that the model_dir exists, create the folder if necessary"
      ],
      "metadata": {
        "id": "2qeWGdKzCNoP"
      }
    },
    {
      "cell_type": "code",
      "source": [
        "model_name = 'test'\n",
        "data_dir = './drive/MyDrive/2023-ADHD-VCU-UPC/data/'\n",
        "models_dir = './drive/MyDrive/2023-ADHD-VCU-UPC/models/'\n",
        "valid_size = 0.2"
      ],
      "metadata": {
        "id": "IdhwetMyxtfT"
      },
      "execution_count": 6,
      "outputs": []
    },
    {
      "cell_type": "markdown",
      "source": [
        "Create a dictionary with the hyperparameters:"
      ],
      "metadata": {
        "id": "P9NodvWo6qZV"
      }
    },
    {
      "cell_type": "code",
      "source": [
        "hyperparams = {\n",
        "    'lr': 0.003, \n",
        "    'epochs': 1, \n",
        "    'batch_size': 64,\n",
        "    'optimizer': 'Adam',            # options: Adam, SGD\n",
        "    'loss': 'NLLLoss',              # options: NLLLoss, CrossEntropyLoss\n",
        "    'pretrained_model': 'resnet50', # options: resnet50, vgg16\n",
        "    'freeze_pretrained_model': True,# options: True, False\n",
        "    'train_transforms': 'default',  # options: default\n",
        "    'test_transforms': 'default'    # options: default\n",
        "}"
      ],
      "metadata": {
        "id": "YXnwxqMmFZXx"
      },
      "execution_count": 7,
      "outputs": []
    },
    {
      "cell_type": "markdown",
      "source": [
        "Create a new experiment with the MLADHD Python class."
      ],
      "metadata": {
        "id": "PbEcAKnP6wBI"
      }
    },
    {
      "cell_type": "code",
      "source": [
        "experiment = MLADHD(model_name, data_dir, models_dir, hyperparams)"
      ],
      "metadata": {
        "id": "1BM8iN1_QqFa"
      },
      "execution_count": 8,
      "outputs": []
    },
    {
      "cell_type": "markdown",
      "source": [
        "Load and split the data into train and test."
      ],
      "metadata": {
        "id": "4TNLtSmd64wV"
      }
    },
    {
      "cell_type": "code",
      "source": [
        "experiment.load_split_dataset(valid_size)"
      ],
      "metadata": {
        "colab": {
          "base_uri": "https://localhost:8080/"
        },
        "id": "X7GurbYCyKgX",
        "outputId": "ba2ec1c1-6050-48f3-dbb0-543a2eb4be4f"
      },
      "execution_count": 9,
      "outputs": [
        {
          "output_type": "stream",
          "name": "stdout",
          "text": [
            "Train size:  24\n",
            "Test size:  6\n",
            "Trainloader and Testloader created. Access them with self.train and self.test\n"
          ]
        }
      ]
    },
    {
      "cell_type": "markdown",
      "source": [
        "Create a new model using the pretrained model indicated in the hyperparameters"
      ],
      "metadata": {
        "id": "0SI3jqb76-74"
      }
    },
    {
      "cell_type": "code",
      "source": [
        "experiment.create_model()"
      ],
      "metadata": {
        "id": "zO4tqfDEymVx",
        "outputId": "409307e2-ec53-487c-9329-23d4111b3c42",
        "colab": {
          "base_uri": "https://localhost:8080/",
          "height": 66,
          "referenced_widgets": [
            "b5dc33d7920f4bf29fbdceedef8c9b41",
            "30c2bb89d6c74b8e957c4d47b3befee5",
            "2a0db4c27da44f84b18016fc6e992ca2",
            "7d2fbead352f43caa999db018d2a2ccf",
            "fbe5d77bcd3f497eac669aed8aa0c8cc",
            "cfa944a27f994983b84fb9cbf5097a6d",
            "f4c287a4551947f0ab0a8a781bbda66b",
            "1d881218a3b34d60adca7cf44fa17c9d",
            "78c86ca0c8d64ec1bb1f05ec919245df",
            "1debc4c762e1449da75a2a3d8afd4442",
            "0c641a6335eb4dcc9a7a6b5a021b8358"
          ]
        }
      },
      "execution_count": 10,
      "outputs": [
        {
          "output_type": "stream",
          "name": "stderr",
          "text": [
            "Downloading: \"https://download.pytorch.org/models/resnet50-11ad3fa6.pth\" to /root/.cache/torch/hub/checkpoints/resnet50-11ad3fa6.pth\n"
          ]
        },
        {
          "output_type": "display_data",
          "data": {
            "text/plain": [
              "  0%|          | 0.00/97.8M [00:00<?, ?B/s]"
            ],
            "application/vnd.jupyter.widget-view+json": {
              "version_major": 2,
              "version_minor": 0,
              "model_id": "b5dc33d7920f4bf29fbdceedef8c9b41"
            }
          },
          "metadata": {}
        }
      ]
    },
    {
      "cell_type": "markdown",
      "source": [
        "Check what pretrained model has been used."
      ],
      "metadata": {
        "id": "SUQPPYbC7Ivq"
      }
    },
    {
      "cell_type": "code",
      "source": [
        "experiment.hyperparams[\"pretrained_model\"]"
      ],
      "metadata": {
        "id": "sEliWMM77N8Q",
        "outputId": "8aa24fe2-83f2-4831-e077-e269c6c65cb2",
        "colab": {
          "base_uri": "https://localhost:8080/",
          "height": 36
        }
      },
      "execution_count": 11,
      "outputs": [
        {
          "output_type": "execute_result",
          "data": {
            "text/plain": [
              "'resnet50'"
            ],
            "application/vnd.google.colaboratory.intrinsic+json": {
              "type": "string"
            }
          },
          "metadata": {},
          "execution_count": 11
        }
      ]
    },
    {
      "cell_type": "markdown",
      "source": [
        "Now lets train our model with the train data:"
      ],
      "metadata": {
        "id": "W52ElGac7R45"
      }
    },
    {
      "cell_type": "code",
      "source": [
        "experiment.train_model()"
      ],
      "metadata": {
        "colab": {
          "base_uri": "https://localhost:8080/"
        },
        "id": "aZhnk-xvyr8N",
        "outputId": "f90ba3ac-c39d-43ea-884b-8567702cca75"
      },
      "execution_count": 12,
      "outputs": [
        {
          "output_type": "stream",
          "name": "stdout",
          "text": [
            "Epoch: 1/1..  Training Loss: 0.010.. \n",
            "Training finished!\n",
            "Model saved as:  test_resnet50_2023-01-07_16-30-08.pth\n"
          ]
        }
      ]
    },
    {
      "cell_type": "markdown",
      "source": [
        "Check that the new trained model and the hyperparameters used have been stored in the indicated folder with the name *modelname_pretrainedmodel_date_time.pth* and *modelname_pretrainedmodel_date_time.json* respectively.\n",
        "\n",
        "Now lets test our model with the test data and see the test_loss and accuracy."
      ],
      "metadata": {
        "id": "UNwGcxYF7Wj5"
      }
    },
    {
      "cell_type": "code",
      "source": [
        "print(\"Testing model...\")\n",
        "test_loss,accuracy = experiment.test_model()\n",
        "print(test_loss,accuracy)"
      ],
      "metadata": {
        "colab": {
          "base_uri": "https://localhost:8080/"
        },
        "id": "dLWJK2rjQu6e",
        "outputId": "8eb16614-6ec2-4fee-fad1-5a3bf5c73a71"
      },
      "execution_count": 13,
      "outputs": [
        {
          "output_type": "stream",
          "name": "stdout",
          "text": [
            "Testing model...\n",
            "0.1275309333577752 0.9568865696589152\n"
          ]
        }
      ]
    },
    {
      "cell_type": "markdown",
      "source": [
        "Plot the training loss during the last epoch."
      ],
      "metadata": {
        "id": "6qy1eV958Rqq"
      }
    },
    {
      "cell_type": "code",
      "source": [
        "plt.plot(experiment.running_loss[-1],label='Training loss')\n",
        "plt.legend(frameon=False)\n",
        "plt.show()"
      ],
      "metadata": {
        "colab": {
          "base_uri": "https://localhost:8080/",
          "height": 265
        },
        "id": "wWC3DzWLMof_",
        "outputId": "bf283318-3d41-4dd0-f35a-759d6f2b153b"
      },
      "execution_count": 14,
      "outputs": [
        {
          "output_type": "display_data",
          "data": {
            "text/plain": [
              "<Figure size 432x288 with 1 Axes>"
            ],
            "image/png": "[encoded data removed]"
          },
          "metadata": {
            "needs_background": "light"
          }
        }
      ]
    },
    {
      "cell_type": "markdown",
      "source": [
        "<a name='s2'></a>\n",
        "### Experiment - Case 2: Using our pretrained models [IN PROGRESS..]"
      ],
      "metadata": {
        "id": "Bde5No0s-qGR"
      }
    },
    {
      "cell_type": "markdown",
      "source": [
        "If we have already trained a model we can load it to our enviroment in order to test it or to predict images.\n",
        "\n",
        "We will load:\n",
        "- The trained model\n",
        "- The hyperparameters used for its training"
      ],
      "metadata": {
        "id": "PmGeOiJd_30i"
      }
    },
    {
      "cell_type": "code",
      "source": [
        "data_dir = './drive/MyDrive/2023-ADHD-VCU-UPC/data/'\n",
        "models_dir = './drive/MyDrive/2023-ADHD-VCU-UPC/models/'\n",
        "pretrained_model = 'test_resnet50_2023-01-07_16-30-08'\n",
        "model_name = pretrained_model.split('_')[0]\n",
        "print(\"Loading hyperparams...\")\n",
        "with open(models_dir+pretrained_model+'.json', 'r') as fp:\n",
        "    hyperparams = json.load(fp)\n",
        "# when loading a pretrained model, the date is updated to the current date\n",
        "# so that the model is not overwritten (see __init__)\n",
        "experiment2 = MLADHD(model_name, data_dir, models_dir, hyperparams)"
      ],
      "metadata": {
        "id": "jEkopbJa-xMN",
        "outputId": "d0f04e68-b04d-4dd0-97c3-7735c5cf4ff7",
        "colab": {
          "base_uri": "https://localhost:8080/"
        }
      },
      "execution_count": 17,
      "outputs": [
        {
          "output_type": "stream",
          "name": "stdout",
          "text": [
            "Loading hyperparams...\n"
          ]
        }
      ]
    },
    {
      "cell_type": "code",
      "source": [
        "experiment2.hyperparams"
      ],
      "metadata": {
        "id": "keJYDD2yGUua",
        "outputId": "95c71c89-ba17-4b54-9f9b-44d3c7738169",
        "colab": {
          "base_uri": "https://localhost:8080/"
        }
      },
      "execution_count": 18,
      "outputs": [
        {
          "output_type": "execute_result",
          "data": {
            "text/plain": [
              "{'lr': 0.003,\n",
              " 'epochs': 1,\n",
              " 'batch_size': 64,\n",
              " 'optimizer': 'Adam',\n",
              " 'loss': 'NLLLoss',\n",
              " 'pretrained_model': 'resnet50',\n",
              " 'freeze_pretrained_model': True,\n",
              " 'train_transforms': 'default',\n",
              " 'test_transforms': 'default'}"
            ]
          },
          "metadata": {},
          "execution_count": 18
        }
      ]
    }
  ]
}